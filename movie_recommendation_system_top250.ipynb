{
  "nbformat": 4,
  "nbformat_minor": 0,
  "metadata": {
    "colab": {
      "name": "movie_recommendation_system_top250.ipynb",
      "provenance": [],
      "collapsed_sections": []
    },
    "kernelspec": {
      "name": "python3",
      "display_name": "Python 3"
    },
    "language_info": {
      "name": "python"
    }
  },
  "cells": [
    {
      "cell_type": "code",
      "metadata": {
        "id": "SMqyWdJmOieZ"
      },
      "source": [
        "import requests\n",
        "from bs4 import BeautifulSoup"
      ],
      "execution_count": null,
      "outputs": []
    },
    {
      "cell_type": "code",
      "metadata": {
        "id": "-7yXZIYibAV4"
      },
      "source": [
        "url=\"https://www.imdb.com/chart/top/\""
      ],
      "execution_count": null,
      "outputs": []
    },
    {
      "cell_type": "code",
      "metadata": {
        "id": "Q5vwDkCHbD_h"
      },
      "source": [
        "headers={\"User-Agent\":\"enter ur user_agent\"}"
      ],
      "execution_count": null,
      "outputs": []
    },
    {
      "cell_type": "code",
      "metadata": {
        "id": "8F1P0Er5ba7J"
      },
      "source": [
        "r=requests.get(url,headers=headers)"
      ],
      "execution_count": null,
      "outputs": []
    },
    {
      "cell_type": "code",
      "metadata": {
        "colab": {
          "base_uri": "https://localhost:8080/"
        },
        "id": "Xx5aRMRibiN6",
        "outputId": "938389b6-c100-4b20-99c4-b5c27bd96017"
      },
      "source": [
        "r"
      ],
      "execution_count": null,
      "outputs": [
        {
          "output_type": "execute_result",
          "data": {
            "text/plain": [
              "<Response [200]>"
            ]
          },
          "metadata": {
            "tags": []
          },
          "execution_count": 122
        }
      ]
    },
    {
      "cell_type": "code",
      "metadata": {
        "id": "VIeumHa6bizr"
      },
      "source": [
        "s=BeautifulSoup(r.text,\"html.parser\")"
      ],
      "execution_count": null,
      "outputs": []
    },
    {
      "cell_type": "code",
      "metadata": {
        "colab": {
          "base_uri": "https://localhost:8080/",
          "height": 35
        },
        "id": "k5MHM6QUbxtE",
        "outputId": "f72540c0-75de-4cc1-800f-083db248f8ac"
      },
      "source": [
        "s.title.text"
      ],
      "execution_count": null,
      "outputs": [
        {
          "output_type": "execute_result",
          "data": {
            "application/vnd.google.colaboratory.intrinsic+json": {
              "type": "string"
            },
            "text/plain": [
              "'IMDb Top 250 - IMDb'"
            ]
          },
          "metadata": {
            "tags": []
          },
          "execution_count": 124
        }
      ]
    },
    {
      "cell_type": "code",
      "metadata": {
        "id": "EOOdfsAocRoj"
      },
      "source": [
        "z=s.find_all(\"td\",{\"class\":\"titleColumn\"})"
      ],
      "execution_count": null,
      "outputs": []
    },
    {
      "cell_type": "code",
      "metadata": {
        "colab": {
          "base_uri": "https://localhost:8080/"
        },
        "id": "mSuCDsp_epp_",
        "outputId": "04299043-6d13-4a45-8cb6-f5b649c2cf52"
      },
      "source": [
        "len(z)"
      ],
      "execution_count": null,
      "outputs": [
        {
          "output_type": "execute_result",
          "data": {
            "text/plain": [
              "250"
            ]
          },
          "metadata": {
            "tags": []
          },
          "execution_count": 126
        }
      ]
    },
    {
      "cell_type": "code",
      "metadata": {
        "id": "xopSC4W9dMlY"
      },
      "source": [
        "title=[]\n",
        "link=[]\n",
        "for item in z:\n",
        "  title.append(item.find(\"a\").text)\n",
        "  link.append(\"https://www.imdb.com/\"+item.find(\"a\")[\"href\"])\n",
        "  "
      ],
      "execution_count": null,
      "outputs": []
    },
    {
      "cell_type": "code",
      "metadata": {
        "colab": {
          "base_uri": "https://localhost:8080/"
        },
        "id": "SWySeQmMhQqJ",
        "outputId": "ec0b04de-6cfd-4d54-b69e-3c3af77399c5"
      },
      "source": [
        "link"
      ],
      "execution_count": null,
      "outputs": [
        {
          "output_type": "execute_result",
          "data": {
            "text/plain": [
              "['https://www.imdb.com//title/tt0111161/?pf_rd_m=A2FGELUUNOQJNL&pf_rd_p=e31d89dd-322d-4646-8962-327b42fe94b1&pf_rd_r=69H1NEBQZQZK3HNRKMYC&pf_rd_s=center-1&pf_rd_t=15506&pf_rd_i=top&ref_=chttp_tt_1',\n",
              " 'https://www.imdb.com//title/tt0068646/?pf_rd_m=A2FGELUUNOQJNL&pf_rd_p=e31d89dd-322d-4646-8962-327b42fe94b1&pf_rd_r=69H1NEBQZQZK3HNRKMYC&pf_rd_s=center-1&pf_rd_t=15506&pf_rd_i=top&ref_=chttp_tt_2',\n",
              " 'https://www.imdb.com//title/tt0071562/?pf_rd_m=A2FGELUUNOQJNL&pf_rd_p=e31d89dd-322d-4646-8962-327b42fe94b1&pf_rd_r=69H1NEBQZQZK3HNRKMYC&pf_rd_s=center-1&pf_rd_t=15506&pf_rd_i=top&ref_=chttp_tt_3',\n",
              " 'https://www.imdb.com//title/tt0468569/?pf_rd_m=A2FGELUUNOQJNL&pf_rd_p=e31d89dd-322d-4646-8962-327b42fe94b1&pf_rd_r=69H1NEBQZQZK3HNRKMYC&pf_rd_s=center-1&pf_rd_t=15506&pf_rd_i=top&ref_=chttp_tt_4',\n",
              " 'https://www.imdb.com//title/tt0050083/?pf_rd_m=A2FGELUUNOQJNL&pf_rd_p=e31d89dd-322d-4646-8962-327b42fe94b1&pf_rd_r=69H1NEBQZQZK3HNRKMYC&pf_rd_s=center-1&pf_rd_t=15506&pf_rd_i=top&ref_=chttp_tt_5',\n",
              " 'https://www.imdb.com//title/tt0108052/?pf_rd_m=A2FGELUUNOQJNL&pf_rd_p=e31d89dd-322d-4646-8962-327b42fe94b1&pf_rd_r=69H1NEBQZQZK3HNRKMYC&pf_rd_s=center-1&pf_rd_t=15506&pf_rd_i=top&ref_=chttp_tt_6',\n",
              " 'https://www.imdb.com//title/tt0167260/?pf_rd_m=A2FGELUUNOQJNL&pf_rd_p=e31d89dd-322d-4646-8962-327b42fe94b1&pf_rd_r=69H1NEBQZQZK3HNRKMYC&pf_rd_s=center-1&pf_rd_t=15506&pf_rd_i=top&ref_=chttp_tt_7',\n",
              " 'https://www.imdb.com//title/tt0110912/?pf_rd_m=A2FGELUUNOQJNL&pf_rd_p=e31d89dd-322d-4646-8962-327b42fe94b1&pf_rd_r=69H1NEBQZQZK3HNRKMYC&pf_rd_s=center-1&pf_rd_t=15506&pf_rd_i=top&ref_=chttp_tt_8',\n",
              " 'https://www.imdb.com//title/tt0060196/?pf_rd_m=A2FGELUUNOQJNL&pf_rd_p=e31d89dd-322d-4646-8962-327b42fe94b1&pf_rd_r=69H1NEBQZQZK3HNRKMYC&pf_rd_s=center-1&pf_rd_t=15506&pf_rd_i=top&ref_=chttp_tt_9',\n",
              " 'https://www.imdb.com//title/tt0120737/?pf_rd_m=A2FGELUUNOQJNL&pf_rd_p=e31d89dd-322d-4646-8962-327b42fe94b1&pf_rd_r=69H1NEBQZQZK3HNRKMYC&pf_rd_s=center-1&pf_rd_t=15506&pf_rd_i=top&ref_=chttp_tt_10',\n",
              " 'https://www.imdb.com//title/tt0137523/?pf_rd_m=A2FGELUUNOQJNL&pf_rd_p=e31d89dd-322d-4646-8962-327b42fe94b1&pf_rd_r=69H1NEBQZQZK3HNRKMYC&pf_rd_s=center-1&pf_rd_t=15506&pf_rd_i=top&ref_=chttp_tt_11',\n",
              " 'https://www.imdb.com//title/tt0109830/?pf_rd_m=A2FGELUUNOQJNL&pf_rd_p=e31d89dd-322d-4646-8962-327b42fe94b1&pf_rd_r=69H1NEBQZQZK3HNRKMYC&pf_rd_s=center-1&pf_rd_t=15506&pf_rd_i=top&ref_=chttp_tt_12',\n",
              " 'https://www.imdb.com//title/tt1375666/?pf_rd_m=A2FGELUUNOQJNL&pf_rd_p=e31d89dd-322d-4646-8962-327b42fe94b1&pf_rd_r=69H1NEBQZQZK3HNRKMYC&pf_rd_s=center-1&pf_rd_t=15506&pf_rd_i=top&ref_=chttp_tt_13',\n",
              " 'https://www.imdb.com//title/tt0167261/?pf_rd_m=A2FGELUUNOQJNL&pf_rd_p=e31d89dd-322d-4646-8962-327b42fe94b1&pf_rd_r=69H1NEBQZQZK3HNRKMYC&pf_rd_s=center-1&pf_rd_t=15506&pf_rd_i=top&ref_=chttp_tt_14',\n",
              " 'https://www.imdb.com//title/tt0080684/?pf_rd_m=A2FGELUUNOQJNL&pf_rd_p=e31d89dd-322d-4646-8962-327b42fe94b1&pf_rd_r=69H1NEBQZQZK3HNRKMYC&pf_rd_s=center-1&pf_rd_t=15506&pf_rd_i=top&ref_=chttp_tt_15',\n",
              " 'https://www.imdb.com//title/tt0133093/?pf_rd_m=A2FGELUUNOQJNL&pf_rd_p=e31d89dd-322d-4646-8962-327b42fe94b1&pf_rd_r=69H1NEBQZQZK3HNRKMYC&pf_rd_s=center-1&pf_rd_t=15506&pf_rd_i=top&ref_=chttp_tt_16',\n",
              " 'https://www.imdb.com//title/tt0099685/?pf_rd_m=A2FGELUUNOQJNL&pf_rd_p=e31d89dd-322d-4646-8962-327b42fe94b1&pf_rd_r=69H1NEBQZQZK3HNRKMYC&pf_rd_s=center-1&pf_rd_t=15506&pf_rd_i=top&ref_=chttp_tt_17',\n",
              " 'https://www.imdb.com//title/tt0073486/?pf_rd_m=A2FGELUUNOQJNL&pf_rd_p=e31d89dd-322d-4646-8962-327b42fe94b1&pf_rd_r=69H1NEBQZQZK3HNRKMYC&pf_rd_s=center-1&pf_rd_t=15506&pf_rd_i=top&ref_=chttp_tt_18',\n",
              " 'https://www.imdb.com//title/tt0047478/?pf_rd_m=A2FGELUUNOQJNL&pf_rd_p=e31d89dd-322d-4646-8962-327b42fe94b1&pf_rd_r=69H1NEBQZQZK3HNRKMYC&pf_rd_s=center-1&pf_rd_t=15506&pf_rd_i=top&ref_=chttp_tt_19',\n",
              " 'https://www.imdb.com//title/tt0114369/?pf_rd_m=A2FGELUUNOQJNL&pf_rd_p=e31d89dd-322d-4646-8962-327b42fe94b1&pf_rd_r=69H1NEBQZQZK3HNRKMYC&pf_rd_s=center-1&pf_rd_t=15506&pf_rd_i=top&ref_=chttp_tt_20',\n",
              " 'https://www.imdb.com//title/tt0102926/?pf_rd_m=A2FGELUUNOQJNL&pf_rd_p=e31d89dd-322d-4646-8962-327b42fe94b1&pf_rd_r=69H1NEBQZQZK3HNRKMYC&pf_rd_s=center-1&pf_rd_t=15506&pf_rd_i=top&ref_=chttp_tt_21',\n",
              " 'https://www.imdb.com//title/tt0317248/?pf_rd_m=A2FGELUUNOQJNL&pf_rd_p=e31d89dd-322d-4646-8962-327b42fe94b1&pf_rd_r=69H1NEBQZQZK3HNRKMYC&pf_rd_s=center-1&pf_rd_t=15506&pf_rd_i=top&ref_=chttp_tt_22',\n",
              " 'https://www.imdb.com//title/tt0118799/?pf_rd_m=A2FGELUUNOQJNL&pf_rd_p=e31d89dd-322d-4646-8962-327b42fe94b1&pf_rd_r=69H1NEBQZQZK3HNRKMYC&pf_rd_s=center-1&pf_rd_t=15506&pf_rd_i=top&ref_=chttp_tt_23',\n",
              " 'https://www.imdb.com//title/tt0038650/?pf_rd_m=A2FGELUUNOQJNL&pf_rd_p=e31d89dd-322d-4646-8962-327b42fe94b1&pf_rd_r=69H1NEBQZQZK3HNRKMYC&pf_rd_s=center-1&pf_rd_t=15506&pf_rd_i=top&ref_=chttp_tt_24',\n",
              " 'https://www.imdb.com//title/tt0076759/?pf_rd_m=A2FGELUUNOQJNL&pf_rd_p=e31d89dd-322d-4646-8962-327b42fe94b1&pf_rd_r=69H1NEBQZQZK3HNRKMYC&pf_rd_s=center-1&pf_rd_t=15506&pf_rd_i=top&ref_=chttp_tt_25',\n",
              " 'https://www.imdb.com//title/tt0120815/?pf_rd_m=A2FGELUUNOQJNL&pf_rd_p=e31d89dd-322d-4646-8962-327b42fe94b1&pf_rd_r=69H1NEBQZQZK3HNRKMYC&pf_rd_s=center-1&pf_rd_t=15506&pf_rd_i=top&ref_=chttp_tt_26',\n",
              " 'https://www.imdb.com//title/tt0245429/?pf_rd_m=A2FGELUUNOQJNL&pf_rd_p=e31d89dd-322d-4646-8962-327b42fe94b1&pf_rd_r=69H1NEBQZQZK3HNRKMYC&pf_rd_s=center-1&pf_rd_t=15506&pf_rd_i=top&ref_=chttp_tt_27',\n",
              " 'https://www.imdb.com//title/tt0120689/?pf_rd_m=A2FGELUUNOQJNL&pf_rd_p=e31d89dd-322d-4646-8962-327b42fe94b1&pf_rd_r=69H1NEBQZQZK3HNRKMYC&pf_rd_s=center-1&pf_rd_t=15506&pf_rd_i=top&ref_=chttp_tt_28',\n",
              " 'https://www.imdb.com//title/tt0816692/?pf_rd_m=A2FGELUUNOQJNL&pf_rd_p=e31d89dd-322d-4646-8962-327b42fe94b1&pf_rd_r=69H1NEBQZQZK3HNRKMYC&pf_rd_s=center-1&pf_rd_t=15506&pf_rd_i=top&ref_=chttp_tt_29',\n",
              " 'https://www.imdb.com//title/tt6751668/?pf_rd_m=A2FGELUUNOQJNL&pf_rd_p=e31d89dd-322d-4646-8962-327b42fe94b1&pf_rd_r=69H1NEBQZQZK3HNRKMYC&pf_rd_s=center-1&pf_rd_t=15506&pf_rd_i=top&ref_=chttp_tt_30',\n",
              " 'https://www.imdb.com//title/tt0110413/?pf_rd_m=A2FGELUUNOQJNL&pf_rd_p=e31d89dd-322d-4646-8962-327b42fe94b1&pf_rd_r=69H1NEBQZQZK3HNRKMYC&pf_rd_s=center-1&pf_rd_t=15506&pf_rd_i=top&ref_=chttp_tt_31',\n",
              " 'https://www.imdb.com//title/tt0056058/?pf_rd_m=A2FGELUUNOQJNL&pf_rd_p=e31d89dd-322d-4646-8962-327b42fe94b1&pf_rd_r=69H1NEBQZQZK3HNRKMYC&pf_rd_s=center-1&pf_rd_t=15506&pf_rd_i=top&ref_=chttp_tt_32',\n",
              " 'https://www.imdb.com//title/tt0114814/?pf_rd_m=A2FGELUUNOQJNL&pf_rd_p=e31d89dd-322d-4646-8962-327b42fe94b1&pf_rd_r=69H1NEBQZQZK3HNRKMYC&pf_rd_s=center-1&pf_rd_t=15506&pf_rd_i=top&ref_=chttp_tt_33',\n",
              " 'https://www.imdb.com//title/tt0253474/?pf_rd_m=A2FGELUUNOQJNL&pf_rd_p=e31d89dd-322d-4646-8962-327b42fe94b1&pf_rd_r=69H1NEBQZQZK3HNRKMYC&pf_rd_s=center-1&pf_rd_t=15506&pf_rd_i=top&ref_=chttp_tt_34',\n",
              " 'https://www.imdb.com//title/tt0088763/?pf_rd_m=A2FGELUUNOQJNL&pf_rd_p=e31d89dd-322d-4646-8962-327b42fe94b1&pf_rd_r=69H1NEBQZQZK3HNRKMYC&pf_rd_s=center-1&pf_rd_t=15506&pf_rd_i=top&ref_=chttp_tt_35',\n",
              " 'https://www.imdb.com//title/tt0103064/?pf_rd_m=A2FGELUUNOQJNL&pf_rd_p=e31d89dd-322d-4646-8962-327b42fe94b1&pf_rd_r=69H1NEBQZQZK3HNRKMYC&pf_rd_s=center-1&pf_rd_t=15506&pf_rd_i=top&ref_=chttp_tt_36',\n",
              " 'https://www.imdb.com//title/tt0027977/?pf_rd_m=A2FGELUUNOQJNL&pf_rd_p=e31d89dd-322d-4646-8962-327b42fe94b1&pf_rd_r=69H1NEBQZQZK3HNRKMYC&pf_rd_s=center-1&pf_rd_t=15506&pf_rd_i=top&ref_=chttp_tt_37',\n",
              " 'https://www.imdb.com//title/tt0054215/?pf_rd_m=A2FGELUUNOQJNL&pf_rd_p=e31d89dd-322d-4646-8962-327b42fe94b1&pf_rd_r=69H1NEBQZQZK3HNRKMYC&pf_rd_s=center-1&pf_rd_t=15506&pf_rd_i=top&ref_=chttp_tt_38',\n",
              " 'https://www.imdb.com//title/tt0110357/?pf_rd_m=A2FGELUUNOQJNL&pf_rd_p=e31d89dd-322d-4646-8962-327b42fe94b1&pf_rd_r=69H1NEBQZQZK3HNRKMYC&pf_rd_s=center-1&pf_rd_t=15506&pf_rd_i=top&ref_=chttp_tt_39',\n",
              " 'https://www.imdb.com//title/tt0120586/?pf_rd_m=A2FGELUUNOQJNL&pf_rd_p=e31d89dd-322d-4646-8962-327b42fe94b1&pf_rd_r=69H1NEBQZQZK3HNRKMYC&pf_rd_s=center-1&pf_rd_t=15506&pf_rd_i=top&ref_=chttp_tt_40',\n",
              " 'https://www.imdb.com//title/tt0021749/?pf_rd_m=A2FGELUUNOQJNL&pf_rd_p=e31d89dd-322d-4646-8962-327b42fe94b1&pf_rd_r=69H1NEBQZQZK3HNRKMYC&pf_rd_s=center-1&pf_rd_t=15506&pf_rd_i=top&ref_=chttp_tt_41',\n",
              " 'https://www.imdb.com//title/tt0172495/?pf_rd_m=A2FGELUUNOQJNL&pf_rd_p=e31d89dd-322d-4646-8962-327b42fe94b1&pf_rd_r=69H1NEBQZQZK3HNRKMYC&pf_rd_s=center-1&pf_rd_t=15506&pf_rd_i=top&ref_=chttp_tt_42',\n",
              " 'https://www.imdb.com//title/tt0407887/?pf_rd_m=A2FGELUUNOQJNL&pf_rd_p=e31d89dd-322d-4646-8962-327b42fe94b1&pf_rd_r=69H1NEBQZQZK3HNRKMYC&pf_rd_s=center-1&pf_rd_t=15506&pf_rd_i=top&ref_=chttp_tt_43',\n",
              " 'https://www.imdb.com//title/tt2582802/?pf_rd_m=A2FGELUUNOQJNL&pf_rd_p=e31d89dd-322d-4646-8962-327b42fe94b1&pf_rd_r=69H1NEBQZQZK3HNRKMYC&pf_rd_s=center-1&pf_rd_t=15506&pf_rd_i=top&ref_=chttp_tt_44',\n",
              " 'https://www.imdb.com//title/tt0095327/?pf_rd_m=A2FGELUUNOQJNL&pf_rd_p=e31d89dd-322d-4646-8962-327b42fe94b1&pf_rd_r=69H1NEBQZQZK3HNRKMYC&pf_rd_s=center-1&pf_rd_t=15506&pf_rd_i=top&ref_=chttp_tt_45',\n",
              " 'https://www.imdb.com//title/tt1675434/?pf_rd_m=A2FGELUUNOQJNL&pf_rd_p=e31d89dd-322d-4646-8962-327b42fe94b1&pf_rd_r=69H1NEBQZQZK3HNRKMYC&pf_rd_s=center-1&pf_rd_t=15506&pf_rd_i=top&ref_=chttp_tt_46',\n",
              " 'https://www.imdb.com//title/tt0482571/?pf_rd_m=A2FGELUUNOQJNL&pf_rd_p=e31d89dd-322d-4646-8962-327b42fe94b1&pf_rd_r=69H1NEBQZQZK3HNRKMYC&pf_rd_s=center-1&pf_rd_t=15506&pf_rd_i=top&ref_=chttp_tt_47',\n",
              " 'https://www.imdb.com//title/tt0034583/?pf_rd_m=A2FGELUUNOQJNL&pf_rd_p=e31d89dd-322d-4646-8962-327b42fe94b1&pf_rd_r=69H1NEBQZQZK3HNRKMYC&pf_rd_s=center-1&pf_rd_t=15506&pf_rd_i=top&ref_=chttp_tt_48',\n",
              " 'https://www.imdb.com//title/tt0064116/?pf_rd_m=A2FGELUUNOQJNL&pf_rd_p=e31d89dd-322d-4646-8962-327b42fe94b1&pf_rd_r=69H1NEBQZQZK3HNRKMYC&pf_rd_s=center-1&pf_rd_t=15506&pf_rd_i=top&ref_=chttp_tt_49',\n",
              " 'https://www.imdb.com//title/tt0047396/?pf_rd_m=A2FGELUUNOQJNL&pf_rd_p=e31d89dd-322d-4646-8962-327b42fe94b1&pf_rd_r=69H1NEBQZQZK3HNRKMYC&pf_rd_s=center-1&pf_rd_t=15506&pf_rd_i=top&ref_=chttp_tt_50',\n",
              " 'https://www.imdb.com//title/tt0095765/?pf_rd_m=A2FGELUUNOQJNL&pf_rd_p=e31d89dd-322d-4646-8962-327b42fe94b1&pf_rd_r=69H1NEBQZQZK3HNRKMYC&pf_rd_s=center-1&pf_rd_t=15506&pf_rd_i=top&ref_=chttp_tt_51',\n",
              " 'https://www.imdb.com//title/tt0078748/?pf_rd_m=A2FGELUUNOQJNL&pf_rd_p=e31d89dd-322d-4646-8962-327b42fe94b1&pf_rd_r=69H1NEBQZQZK3HNRKMYC&pf_rd_s=center-1&pf_rd_t=15506&pf_rd_i=top&ref_=chttp_tt_52',\n",
              " 'https://www.imdb.com//title/tt0078788/?pf_rd_m=A2FGELUUNOQJNL&pf_rd_p=e31d89dd-322d-4646-8962-327b42fe94b1&pf_rd_r=69H1NEBQZQZK3HNRKMYC&pf_rd_s=center-1&pf_rd_t=15506&pf_rd_i=top&ref_=chttp_tt_53',\n",
              " 'https://www.imdb.com//title/tt0209144/?pf_rd_m=A2FGELUUNOQJNL&pf_rd_p=e31d89dd-322d-4646-8962-327b42fe94b1&pf_rd_r=69H1NEBQZQZK3HNRKMYC&pf_rd_s=center-1&pf_rd_t=15506&pf_rd_i=top&ref_=chttp_tt_54',\n",
              " 'https://www.imdb.com//title/tt0082971/?pf_rd_m=A2FGELUUNOQJNL&pf_rd_p=e31d89dd-322d-4646-8962-327b42fe94b1&pf_rd_r=69H1NEBQZQZK3HNRKMYC&pf_rd_s=center-1&pf_rd_t=15506&pf_rd_i=top&ref_=chttp_tt_55',\n",
              " 'https://www.imdb.com//title/tt0032553/?pf_rd_m=A2FGELUUNOQJNL&pf_rd_p=e31d89dd-322d-4646-8962-327b42fe94b1&pf_rd_r=69H1NEBQZQZK3HNRKMYC&pf_rd_s=center-1&pf_rd_t=15506&pf_rd_i=top&ref_=chttp_tt_56',\n",
              " 'https://www.imdb.com//title/tt0405094/?pf_rd_m=A2FGELUUNOQJNL&pf_rd_p=e31d89dd-322d-4646-8962-327b42fe94b1&pf_rd_r=69H1NEBQZQZK3HNRKMYC&pf_rd_s=center-1&pf_rd_t=15506&pf_rd_i=top&ref_=chttp_tt_57',\n",
              " 'https://www.imdb.com//title/tt1853728/?pf_rd_m=A2FGELUUNOQJNL&pf_rd_p=e31d89dd-322d-4646-8962-327b42fe94b1&pf_rd_r=69H1NEBQZQZK3HNRKMYC&pf_rd_s=center-1&pf_rd_t=15506&pf_rd_i=top&ref_=chttp_tt_58',\n",
              " 'https://www.imdb.com//title/tt0050825/?pf_rd_m=A2FGELUUNOQJNL&pf_rd_p=e31d89dd-322d-4646-8962-327b42fe94b1&pf_rd_r=69H1NEBQZQZK3HNRKMYC&pf_rd_s=center-1&pf_rd_t=15506&pf_rd_i=top&ref_=chttp_tt_59',\n",
              " 'https://www.imdb.com//title/tt0043014/?pf_rd_m=A2FGELUUNOQJNL&pf_rd_p=e31d89dd-322d-4646-8962-327b42fe94b1&pf_rd_r=69H1NEBQZQZK3HNRKMYC&pf_rd_s=center-1&pf_rd_t=15506&pf_rd_i=top&ref_=chttp_tt_60',\n",
              " 'https://www.imdb.com//title/tt0910970/?pf_rd_m=A2FGELUUNOQJNL&pf_rd_p=e31d89dd-322d-4646-8962-327b42fe94b1&pf_rd_r=69H1NEBQZQZK3HNRKMYC&pf_rd_s=center-1&pf_rd_t=15506&pf_rd_i=top&ref_=chttp_tt_61',\n",
              " 'https://www.imdb.com//title/tt0081505/?pf_rd_m=A2FGELUUNOQJNL&pf_rd_p=e31d89dd-322d-4646-8962-327b42fe94b1&pf_rd_r=69H1NEBQZQZK3HNRKMYC&pf_rd_s=center-1&pf_rd_t=15506&pf_rd_i=top&ref_=chttp_tt_62',\n",
              " 'https://www.imdb.com//title/tt7286456/?pf_rd_m=A2FGELUUNOQJNL&pf_rd_p=e31d89dd-322d-4646-8962-327b42fe94b1&pf_rd_r=69H1NEBQZQZK3HNRKMYC&pf_rd_s=center-1&pf_rd_t=15506&pf_rd_i=top&ref_=chttp_tt_63',\n",
              " 'https://www.imdb.com//title/tt0051201/?pf_rd_m=A2FGELUUNOQJNL&pf_rd_p=e31d89dd-322d-4646-8962-327b42fe94b1&pf_rd_r=69H1NEBQZQZK3HNRKMYC&pf_rd_s=center-1&pf_rd_t=15506&pf_rd_i=top&ref_=chttp_tt_64',\n",
              " 'https://www.imdb.com//title/tt4154756/?pf_rd_m=A2FGELUUNOQJNL&pf_rd_p=e31d89dd-322d-4646-8962-327b42fe94b1&pf_rd_r=69H1NEBQZQZK3HNRKMYC&pf_rd_s=center-1&pf_rd_t=15506&pf_rd_i=top&ref_=chttp_tt_65',\n",
              " 'https://www.imdb.com//title/tt0057012/?pf_rd_m=A2FGELUUNOQJNL&pf_rd_p=e31d89dd-322d-4646-8962-327b42fe94b1&pf_rd_r=69H1NEBQZQZK3HNRKMYC&pf_rd_s=center-1&pf_rd_t=15506&pf_rd_i=top&ref_=chttp_tt_66',\n",
              " 'https://www.imdb.com//title/tt4633694/?pf_rd_m=A2FGELUUNOQJNL&pf_rd_p=e31d89dd-322d-4646-8962-327b42fe94b1&pf_rd_r=69H1NEBQZQZK3HNRKMYC&pf_rd_s=center-1&pf_rd_t=15506&pf_rd_i=top&ref_=chttp_tt_67',\n",
              " 'https://www.imdb.com//title/tt8503618/?pf_rd_m=A2FGELUUNOQJNL&pf_rd_p=e31d89dd-322d-4646-8962-327b42fe94b1&pf_rd_r=69H1NEBQZQZK3HNRKMYC&pf_rd_s=center-1&pf_rd_t=15506&pf_rd_i=top&ref_=chttp_tt_68',\n",
              " 'https://www.imdb.com//title/tt0119698/?pf_rd_m=A2FGELUUNOQJNL&pf_rd_p=e31d89dd-322d-4646-8962-327b42fe94b1&pf_rd_r=69H1NEBQZQZK3HNRKMYC&pf_rd_s=center-1&pf_rd_t=15506&pf_rd_i=top&ref_=chttp_tt_69',\n",
              " 'https://www.imdb.com//title/tt0364569/?pf_rd_m=A2FGELUUNOQJNL&pf_rd_p=e31d89dd-322d-4646-8962-327b42fe94b1&pf_rd_r=69H1NEBQZQZK3HNRKMYC&pf_rd_s=center-1&pf_rd_t=15506&pf_rd_i=top&ref_=chttp_tt_70',\n",
              " 'https://www.imdb.com//title/tt0087843/?pf_rd_m=A2FGELUUNOQJNL&pf_rd_p=e31d89dd-322d-4646-8962-327b42fe94b1&pf_rd_r=69H1NEBQZQZK3HNRKMYC&pf_rd_s=center-1&pf_rd_t=15506&pf_rd_i=top&ref_=chttp_tt_71',\n",
              " 'https://www.imdb.com//title/tt5311514/?pf_rd_m=A2FGELUUNOQJNL&pf_rd_p=e31d89dd-322d-4646-8962-327b42fe94b1&pf_rd_r=69H1NEBQZQZK3HNRKMYC&pf_rd_s=center-1&pf_rd_t=15506&pf_rd_i=top&ref_=chttp_tt_72',\n",
              " 'https://www.imdb.com//title/tt1345836/?pf_rd_m=A2FGELUUNOQJNL&pf_rd_p=e31d89dd-322d-4646-8962-327b42fe94b1&pf_rd_r=69H1NEBQZQZK3HNRKMYC&pf_rd_s=center-1&pf_rd_t=15506&pf_rd_i=top&ref_=chttp_tt_73',\n",
              " 'https://www.imdb.com//title/tt0090605/?pf_rd_m=A2FGELUUNOQJNL&pf_rd_p=e31d89dd-322d-4646-8962-327b42fe94b1&pf_rd_r=69H1NEBQZQZK3HNRKMYC&pf_rd_s=center-1&pf_rd_t=15506&pf_rd_i=top&ref_=chttp_tt_74',\n",
              " 'https://www.imdb.com//title/tt2380307/?pf_rd_m=A2FGELUUNOQJNL&pf_rd_p=e31d89dd-322d-4646-8962-327b42fe94b1&pf_rd_r=69H1NEBQZQZK3HNRKMYC&pf_rd_s=center-1&pf_rd_t=15506&pf_rd_i=top&ref_=chttp_tt_75',\n",
              " 'https://www.imdb.com//title/tt0082096/?pf_rd_m=A2FGELUUNOQJNL&pf_rd_p=e31d89dd-322d-4646-8962-327b42fe94b1&pf_rd_r=69H1NEBQZQZK3HNRKMYC&pf_rd_s=center-1&pf_rd_t=15506&pf_rd_i=top&ref_=chttp_tt_76',\n",
              " 'https://www.imdb.com//title/tt8267604/?pf_rd_m=A2FGELUUNOQJNL&pf_rd_p=e31d89dd-322d-4646-8962-327b42fe94b1&pf_rd_r=69H1NEBQZQZK3HNRKMYC&pf_rd_s=center-1&pf_rd_t=15506&pf_rd_i=top&ref_=chttp_tt_77',\n",
              " 'https://www.imdb.com//title/tt4154796/?pf_rd_m=A2FGELUUNOQJNL&pf_rd_p=e31d89dd-322d-4646-8962-327b42fe94b1&pf_rd_r=69H1NEBQZQZK3HNRKMYC&pf_rd_s=center-1&pf_rd_t=15506&pf_rd_i=top&ref_=chttp_tt_78',\n",
              " 'https://www.imdb.com//title/tt0057565/?pf_rd_m=A2FGELUUNOQJNL&pf_rd_p=e31d89dd-322d-4646-8962-327b42fe94b1&pf_rd_r=69H1NEBQZQZK3HNRKMYC&pf_rd_s=center-1&pf_rd_t=15506&pf_rd_i=top&ref_=chttp_tt_79',\n",
              " 'https://www.imdb.com//title/tt0169547/?pf_rd_m=A2FGELUUNOQJNL&pf_rd_p=e31d89dd-322d-4646-8962-327b42fe94b1&pf_rd_r=69H1NEBQZQZK3HNRKMYC&pf_rd_s=center-1&pf_rd_t=15506&pf_rd_i=top&ref_=chttp_tt_80',\n",
              " 'https://www.imdb.com//title/tt0114709/?pf_rd_m=A2FGELUUNOQJNL&pf_rd_p=e31d89dd-322d-4646-8962-327b42fe94b1&pf_rd_r=69H1NEBQZQZK3HNRKMYC&pf_rd_s=center-1&pf_rd_t=15506&pf_rd_i=top&ref_=chttp_tt_81',\n",
              " 'https://www.imdb.com//title/tt0112573/?pf_rd_m=A2FGELUUNOQJNL&pf_rd_p=e31d89dd-322d-4646-8962-327b42fe94b1&pf_rd_r=69H1NEBQZQZK3HNRKMYC&pf_rd_s=center-1&pf_rd_t=15506&pf_rd_i=top&ref_=chttp_tt_82',\n",
              " 'https://www.imdb.com//title/tt0086879/?pf_rd_m=A2FGELUUNOQJNL&pf_rd_p=e31d89dd-322d-4646-8962-327b42fe94b1&pf_rd_r=69H1NEBQZQZK3HNRKMYC&pf_rd_s=center-1&pf_rd_t=15506&pf_rd_i=top&ref_=chttp_tt_83',\n",
              " 'https://www.imdb.com//title/tt1187043/?pf_rd_m=A2FGELUUNOQJNL&pf_rd_p=e31d89dd-322d-4646-8962-327b42fe94b1&pf_rd_r=69H1NEBQZQZK3HNRKMYC&pf_rd_s=center-1&pf_rd_t=15506&pf_rd_i=top&ref_=chttp_tt_84',\n",
              " 'https://www.imdb.com//title/tt0361748/?pf_rd_m=A2FGELUUNOQJNL&pf_rd_p=e31d89dd-322d-4646-8962-327b42fe94b1&pf_rd_r=69H1NEBQZQZK3HNRKMYC&pf_rd_s=center-1&pf_rd_t=15506&pf_rd_i=top&ref_=chttp_tt_85',\n",
              " 'https://www.imdb.com//title/tt0119217/?pf_rd_m=A2FGELUUNOQJNL&pf_rd_p=e31d89dd-322d-4646-8962-327b42fe94b1&pf_rd_r=69H1NEBQZQZK3HNRKMYC&pf_rd_s=center-1&pf_rd_t=15506&pf_rd_i=top&ref_=chttp_tt_86',\n",
              " 'https://www.imdb.com//title/tt0086190/?pf_rd_m=A2FGELUUNOQJNL&pf_rd_p=e31d89dd-322d-4646-8962-327b42fe94b1&pf_rd_r=69H1NEBQZQZK3HNRKMYC&pf_rd_s=center-1&pf_rd_t=15506&pf_rd_i=top&ref_=chttp_tt_87',\n",
              " 'https://www.imdb.com//title/tt0105236/?pf_rd_m=A2FGELUUNOQJNL&pf_rd_p=e31d89dd-322d-4646-8962-327b42fe94b1&pf_rd_r=69H1NEBQZQZK3HNRKMYC&pf_rd_s=center-1&pf_rd_t=15506&pf_rd_i=top&ref_=chttp_tt_88',\n",
              " 'https://www.imdb.com//title/tt0062622/?pf_rd_m=A2FGELUUNOQJNL&pf_rd_p=e31d89dd-322d-4646-8962-327b42fe94b1&pf_rd_r=69H1NEBQZQZK3HNRKMYC&pf_rd_s=center-1&pf_rd_t=15506&pf_rd_i=top&ref_=chttp_tt_89',\n",
              " 'https://www.imdb.com//title/tt0022100/?pf_rd_m=A2FGELUUNOQJNL&pf_rd_p=e31d89dd-322d-4646-8962-327b42fe94b1&pf_rd_r=69H1NEBQZQZK3HNRKMYC&pf_rd_s=center-1&pf_rd_t=15506&pf_rd_i=top&ref_=chttp_tt_90',\n",
              " 'https://www.imdb.com//title/tt0033467/?pf_rd_m=A2FGELUUNOQJNL&pf_rd_p=e31d89dd-322d-4646-8962-327b42fe94b1&pf_rd_r=69H1NEBQZQZK3HNRKMYC&pf_rd_s=center-1&pf_rd_t=15506&pf_rd_i=top&ref_=chttp_tt_91',\n",
              " 'https://www.imdb.com//title/tt0986264/?pf_rd_m=A2FGELUUNOQJNL&pf_rd_p=e31d89dd-322d-4646-8962-327b42fe94b1&pf_rd_r=69H1NEBQZQZK3HNRKMYC&pf_rd_s=center-1&pf_rd_t=15506&pf_rd_i=top&ref_=chttp_tt_92',\n",
              " 'https://www.imdb.com//title/tt0052357/?pf_rd_m=A2FGELUUNOQJNL&pf_rd_p=e31d89dd-322d-4646-8962-327b42fe94b1&pf_rd_r=69H1NEBQZQZK3HNRKMYC&pf_rd_s=center-1&pf_rd_t=15506&pf_rd_i=top&ref_=chttp_tt_93',\n",
              " 'https://www.imdb.com//title/tt0180093/?pf_rd_m=A2FGELUUNOQJNL&pf_rd_p=e31d89dd-322d-4646-8962-327b42fe94b1&pf_rd_r=69H1NEBQZQZK3HNRKMYC&pf_rd_s=center-1&pf_rd_t=15506&pf_rd_i=top&ref_=chttp_tt_94',\n",
              " 'https://www.imdb.com//title/tt2106476/?pf_rd_m=A2FGELUUNOQJNL&pf_rd_p=e31d89dd-322d-4646-8962-327b42fe94b1&pf_rd_r=69H1NEBQZQZK3HNRKMYC&pf_rd_s=center-1&pf_rd_t=15506&pf_rd_i=top&ref_=chttp_tt_95',\n",
              " 'https://www.imdb.com//title/tt0045152/?pf_rd_m=A2FGELUUNOQJNL&pf_rd_p=e31d89dd-322d-4646-8962-327b42fe94b1&pf_rd_r=69H1NEBQZQZK3HNRKMYC&pf_rd_s=center-1&pf_rd_t=15506&pf_rd_i=top&ref_=chttp_tt_96',\n",
              " 'https://www.imdb.com//title/tt0053125/?pf_rd_m=A2FGELUUNOQJNL&pf_rd_p=e31d89dd-322d-4646-8962-327b42fe94b1&pf_rd_r=69H1NEBQZQZK3HNRKMYC&pf_rd_s=center-1&pf_rd_t=15506&pf_rd_i=top&ref_=chttp_tt_97',\n",
              " 'https://www.imdb.com//title/tt0338013/?pf_rd_m=A2FGELUUNOQJNL&pf_rd_p=e31d89dd-322d-4646-8962-327b42fe94b1&pf_rd_r=69H1NEBQZQZK3HNRKMYC&pf_rd_s=center-1&pf_rd_t=15506&pf_rd_i=top&ref_=chttp_tt_98',\n",
              " 'https://www.imdb.com//title/tt0040522/?pf_rd_m=A2FGELUUNOQJNL&pf_rd_p=e31d89dd-322d-4646-8962-327b42fe94b1&pf_rd_r=69H1NEBQZQZK3HNRKMYC&pf_rd_s=center-1&pf_rd_t=15506&pf_rd_i=top&ref_=chttp_tt_99',\n",
              " 'https://www.imdb.com//title/tt0091251/?pf_rd_m=A2FGELUUNOQJNL&pf_rd_p=e31d89dd-322d-4646-8962-327b42fe94b1&pf_rd_r=69H1NEBQZQZK3HNRKMYC&pf_rd_s=center-1&pf_rd_t=15506&pf_rd_i=top&ref_=chttp_tt_100',\n",
              " 'https://www.imdb.com//title/tt0044741/?pf_rd_m=A2FGELUUNOQJNL&pf_rd_p=e31d89dd-322d-4646-8962-327b42fe94b1&pf_rd_r=69H1NEBQZQZK3HNRKMYC&pf_rd_s=center-1&pf_rd_t=15506&pf_rd_i=top&ref_=chttp_tt_101',\n",
              " 'https://www.imdb.com//title/tt0056172/?pf_rd_m=A2FGELUUNOQJNL&pf_rd_p=e31d89dd-322d-4646-8962-327b42fe94b1&pf_rd_r=69H1NEBQZQZK3HNRKMYC&pf_rd_s=center-1&pf_rd_t=15506&pf_rd_i=top&ref_=chttp_tt_102',\n",
              " 'https://www.imdb.com//title/tt10272386/?pf_rd_m=A2FGELUUNOQJNL&pf_rd_p=e31d89dd-322d-4646-8962-327b42fe94b1&pf_rd_r=69H1NEBQZQZK3HNRKMYC&pf_rd_s=center-1&pf_rd_t=15506&pf_rd_i=top&ref_=chttp_tt_103',\n",
              " 'https://www.imdb.com//title/tt0012349/?pf_rd_m=A2FGELUUNOQJNL&pf_rd_p=e31d89dd-322d-4646-8962-327b42fe94b1&pf_rd_r=69H1NEBQZQZK3HNRKMYC&pf_rd_s=center-1&pf_rd_t=15506&pf_rd_i=top&ref_=chttp_tt_104',\n",
              " 'https://www.imdb.com//title/tt0093058/?pf_rd_m=A2FGELUUNOQJNL&pf_rd_p=e31d89dd-322d-4646-8962-327b42fe94b1&pf_rd_r=69H1NEBQZQZK3HNRKMYC&pf_rd_s=center-1&pf_rd_t=15506&pf_rd_i=top&ref_=chttp_tt_105',\n",
              " 'https://www.imdb.com//title/tt5074352/?pf_rd_m=A2FGELUUNOQJNL&pf_rd_p=e31d89dd-322d-4646-8962-327b42fe94b1&pf_rd_r=69H1NEBQZQZK3HNRKMYC&pf_rd_s=center-1&pf_rd_t=15506&pf_rd_i=top&ref_=chttp_tt_106',\n",
              " 'https://www.imdb.com//title/tt0066921/?pf_rd_m=A2FGELUUNOQJNL&pf_rd_p=e31d89dd-322d-4646-8962-327b42fe94b1&pf_rd_r=69H1NEBQZQZK3HNRKMYC&pf_rd_s=center-1&pf_rd_t=15506&pf_rd_i=top&ref_=chttp_tt_107',\n",
              " 'https://www.imdb.com//title/tt0075314/?pf_rd_m=A2FGELUUNOQJNL&pf_rd_p=e31d89dd-322d-4646-8962-327b42fe94b1&pf_rd_r=69H1NEBQZQZK3HNRKMYC&pf_rd_s=center-1&pf_rd_t=15506&pf_rd_i=top&ref_=chttp_tt_108',\n",
              " 'https://www.imdb.com//title/tt0017136/?pf_rd_m=A2FGELUUNOQJNL&pf_rd_p=e31d89dd-322d-4646-8962-327b42fe94b1&pf_rd_r=69H1NEBQZQZK3HNRKMYC&pf_rd_s=center-1&pf_rd_t=15506&pf_rd_i=top&ref_=chttp_tt_109',\n",
              " 'https://www.imdb.com//title/tt0070735/?pf_rd_m=A2FGELUUNOQJNL&pf_rd_p=e31d89dd-322d-4646-8962-327b42fe94b1&pf_rd_r=69H1NEBQZQZK3HNRKMYC&pf_rd_s=center-1&pf_rd_t=15506&pf_rd_i=top&ref_=chttp_tt_110',\n",
              " 'https://www.imdb.com//title/tt0036775/?pf_rd_m=A2FGELUUNOQJNL&pf_rd_p=e31d89dd-322d-4646-8962-327b42fe94b1&pf_rd_r=69H1NEBQZQZK3HNRKMYC&pf_rd_s=center-1&pf_rd_t=15506&pf_rd_i=top&ref_=chttp_tt_111',\n",
              " 'https://www.imdb.com//title/tt8579674/?pf_rd_m=A2FGELUUNOQJNL&pf_rd_p=e31d89dd-322d-4646-8962-327b42fe94b1&pf_rd_r=69H1NEBQZQZK3HNRKMYC&pf_rd_s=center-1&pf_rd_t=15506&pf_rd_i=top&ref_=chttp_tt_112',\n",
              " 'https://www.imdb.com//title/tt0211915/?pf_rd_m=A2FGELUUNOQJNL&pf_rd_p=e31d89dd-322d-4646-8962-327b42fe94b1&pf_rd_r=69H1NEBQZQZK3HNRKMYC&pf_rd_s=center-1&pf_rd_t=15506&pf_rd_i=top&ref_=chttp_tt_113',\n",
              " 'https://www.imdb.com//title/tt1832382/?pf_rd_m=A2FGELUUNOQJNL&pf_rd_p=e31d89dd-322d-4646-8962-327b42fe94b1&pf_rd_r=69H1NEBQZQZK3HNRKMYC&pf_rd_s=center-1&pf_rd_t=15506&pf_rd_i=top&ref_=chttp_tt_114',\n",
              " 'https://www.imdb.com//title/tt0208092/?pf_rd_m=A2FGELUUNOQJNL&pf_rd_p=e31d89dd-322d-4646-8962-327b42fe94b1&pf_rd_r=69H1NEBQZQZK3HNRKMYC&pf_rd_s=center-1&pf_rd_t=15506&pf_rd_i=top&ref_=chttp_tt_115',\n",
              " 'https://www.imdb.com//title/tt0053604/?pf_rd_m=A2FGELUUNOQJNL&pf_rd_p=e31d89dd-322d-4646-8962-327b42fe94b1&pf_rd_r=69H1NEBQZQZK3HNRKMYC&pf_rd_s=center-1&pf_rd_t=15506&pf_rd_i=top&ref_=chttp_tt_116',\n",
              " 'https://www.imdb.com//title/tt0086250/?pf_rd_m=A2FGELUUNOQJNL&pf_rd_p=e31d89dd-322d-4646-8962-327b42fe94b1&pf_rd_r=69H1NEBQZQZK3HNRKMYC&pf_rd_s=center-1&pf_rd_t=15506&pf_rd_i=top&ref_=chttp_tt_117',\n",
              " 'https://www.imdb.com//title/tt1255953/?pf_rd_m=A2FGELUUNOQJNL&pf_rd_p=e31d89dd-322d-4646-8962-327b42fe94b1&pf_rd_r=69H1NEBQZQZK3HNRKMYC&pf_rd_s=center-1&pf_rd_t=15506&pf_rd_i=top&ref_=chttp_tt_118',\n",
              " 'https://www.imdb.com//title/tt0435761/?pf_rd_m=A2FGELUUNOQJNL&pf_rd_p=e31d89dd-322d-4646-8962-327b42fe94b1&pf_rd_r=69H1NEBQZQZK3HNRKMYC&pf_rd_s=center-1&pf_rd_t=15506&pf_rd_i=top&ref_=chttp_tt_119',\n",
              " 'https://www.imdb.com//title/tt0056592/?pf_rd_m=A2FGELUUNOQJNL&pf_rd_p=e31d89dd-322d-4646-8962-327b42fe94b1&pf_rd_r=69H1NEBQZQZK3HNRKMYC&pf_rd_s=center-1&pf_rd_t=15506&pf_rd_i=top&ref_=chttp_tt_120',\n",
              " 'https://www.imdb.com//title/tt0059578/?pf_rd_m=A2FGELUUNOQJNL&pf_rd_p=e31d89dd-322d-4646-8962-327b42fe94b1&pf_rd_r=69H1NEBQZQZK3HNRKMYC&pf_rd_s=center-1&pf_rd_t=15506&pf_rd_i=top&ref_=chttp_tt_121',\n",
              " 'https://www.imdb.com//title/tt1049413/?pf_rd_m=A2FGELUUNOQJNL&pf_rd_p=e31d89dd-322d-4646-8962-327b42fe94b1&pf_rd_r=69H1NEBQZQZK3HNRKMYC&pf_rd_s=center-1&pf_rd_t=15506&pf_rd_i=top&ref_=chttp_tt_122',\n",
              " 'https://www.imdb.com//title/tt0097576/?pf_rd_m=A2FGELUUNOQJNL&pf_rd_p=e31d89dd-322d-4646-8962-327b42fe94b1&pf_rd_r=69H1NEBQZQZK3HNRKMYC&pf_rd_s=center-1&pf_rd_t=15506&pf_rd_i=top&ref_=chttp_tt_123',\n",
              " 'https://www.imdb.com//title/tt0119488/?pf_rd_m=A2FGELUUNOQJNL&pf_rd_p=e31d89dd-322d-4646-8962-327b42fe94b1&pf_rd_r=69H1NEBQZQZK3HNRKMYC&pf_rd_s=center-1&pf_rd_t=15506&pf_rd_i=top&ref_=chttp_tt_124',\n",
              " 'https://www.imdb.com//title/tt0042876/?pf_rd_m=A2FGELUUNOQJNL&pf_rd_p=e31d89dd-322d-4646-8962-327b42fe94b1&pf_rd_r=69H1NEBQZQZK3HNRKMYC&pf_rd_s=center-1&pf_rd_t=15506&pf_rd_i=top&ref_=chttp_tt_125',\n",
              " 'https://www.imdb.com//title/tt0113277/?pf_rd_m=A2FGELUUNOQJNL&pf_rd_p=e31d89dd-322d-4646-8962-327b42fe94b1&pf_rd_r=69H1NEBQZQZK3HNRKMYC&pf_rd_s=center-1&pf_rd_t=15506&pf_rd_i=top&ref_=chttp_tt_126',\n",
              " 'https://www.imdb.com//title/tt0055630/?pf_rd_m=A2FGELUUNOQJNL&pf_rd_p=e31d89dd-322d-4646-8962-327b42fe94b1&pf_rd_r=69H1NEBQZQZK3HNRKMYC&pf_rd_s=center-1&pf_rd_t=15506&pf_rd_i=top&ref_=chttp_tt_127',\n",
              " 'https://www.imdb.com//title/tt0095016/?pf_rd_m=A2FGELUUNOQJNL&pf_rd_p=e31d89dd-322d-4646-8962-327b42fe94b1&pf_rd_r=69H1NEBQZQZK3HNRKMYC&pf_rd_s=center-1&pf_rd_t=15506&pf_rd_i=top&ref_=chttp_tt_128',\n",
              " 'https://www.imdb.com//title/tt0089881/?pf_rd_m=A2FGELUUNOQJNL&pf_rd_p=e31d89dd-322d-4646-8962-327b42fe94b1&pf_rd_r=69H1NEBQZQZK3HNRKMYC&pf_rd_s=center-1&pf_rd_t=15506&pf_rd_i=top&ref_=chttp_tt_129',\n",
              " 'https://www.imdb.com//title/tt0071853/?pf_rd_m=A2FGELUUNOQJNL&pf_rd_p=e31d89dd-322d-4646-8962-327b42fe94b1&pf_rd_r=69H1NEBQZQZK3HNRKMYC&pf_rd_s=center-1&pf_rd_t=15506&pf_rd_i=top&ref_=chttp_tt_130',\n",
              " 'https://www.imdb.com//title/tt0363163/?pf_rd_m=A2FGELUUNOQJNL&pf_rd_p=e31d89dd-322d-4646-8962-327b42fe94b1&pf_rd_r=69H1NEBQZQZK3HNRKMYC&pf_rd_s=center-1&pf_rd_t=15506&pf_rd_i=top&ref_=chttp_tt_131',\n",
              " 'https://www.imdb.com//title/tt6966692/?pf_rd_m=A2FGELUUNOQJNL&pf_rd_p=e31d89dd-322d-4646-8962-327b42fe94b1&pf_rd_r=69H1NEBQZQZK3HNRKMYC&pf_rd_s=center-1&pf_rd_t=15506&pf_rd_i=top&ref_=chttp_tt_132',\n",
              " 'https://www.imdb.com//title/tt0372784/?pf_rd_m=A2FGELUUNOQJNL&pf_rd_p=e31d89dd-322d-4646-8962-327b42fe94b1&pf_rd_r=69H1NEBQZQZK3HNRKMYC&pf_rd_s=center-1&pf_rd_t=15506&pf_rd_i=top&ref_=chttp_tt_133',\n",
              " 'https://www.imdb.com//title/tt0053291/?pf_rd_m=A2FGELUUNOQJNL&pf_rd_p=e31d89dd-322d-4646-8962-327b42fe94b1&pf_rd_r=69H1NEBQZQZK3HNRKMYC&pf_rd_s=center-1&pf_rd_t=15506&pf_rd_i=top&ref_=chttp_tt_134',\n",
              " 'https://www.imdb.com//title/tt0042192/?pf_rd_m=A2FGELUUNOQJNL&pf_rd_p=e31d89dd-322d-4646-8962-327b42fe94b1&pf_rd_r=69H1NEBQZQZK3HNRKMYC&pf_rd_s=center-1&pf_rd_t=15506&pf_rd_i=top&ref_=chttp_tt_135',\n",
              " 'https://www.imdb.com//title/tt0105695/?pf_rd_m=A2FGELUUNOQJNL&pf_rd_p=e31d89dd-322d-4646-8962-327b42fe94b1&pf_rd_r=69H1NEBQZQZK3HNRKMYC&pf_rd_s=center-1&pf_rd_t=15506&pf_rd_i=top&ref_=chttp_tt_136',\n",
              " 'https://www.imdb.com//title/tt0118849/?pf_rd_m=A2FGELUUNOQJNL&pf_rd_p=e31d89dd-322d-4646-8962-327b42fe94b1&pf_rd_r=69H1NEBQZQZK3HNRKMYC&pf_rd_s=center-1&pf_rd_t=15506&pf_rd_i=top&ref_=chttp_tt_137',\n",
              " 'https://www.imdb.com//title/tt0347149/?pf_rd_m=A2FGELUUNOQJNL&pf_rd_p=e31d89dd-322d-4646-8962-327b42fe94b1&pf_rd_r=69H1NEBQZQZK3HNRKMYC&pf_rd_s=center-1&pf_rd_t=15506&pf_rd_i=top&ref_=chttp_tt_138',\n",
              " 'https://www.imdb.com//title/tt0057115/?pf_rd_m=A2FGELUUNOQJNL&pf_rd_p=e31d89dd-322d-4646-8962-327b42fe94b1&pf_rd_r=69H1NEBQZQZK3HNRKMYC&pf_rd_s=center-1&pf_rd_t=15506&pf_rd_i=top&ref_=chttp_tt_139',\n",
              " 'https://www.imdb.com//title/tt0993846/?pf_rd_m=A2FGELUUNOQJNL&pf_rd_p=e31d89dd-322d-4646-8962-327b42fe94b1&pf_rd_r=69H1NEBQZQZK3HNRKMYC&pf_rd_s=center-1&pf_rd_t=15506&pf_rd_i=top&ref_=chttp_tt_140',\n",
              " 'https://www.imdb.com//title/tt0055031/?pf_rd_m=A2FGELUUNOQJNL&pf_rd_p=e31d89dd-322d-4646-8962-327b42fe94b1&pf_rd_r=69H1NEBQZQZK3HNRKMYC&pf_rd_s=center-1&pf_rd_t=15506&pf_rd_i=top&ref_=chttp_tt_141',\n",
              " 'https://www.imdb.com//title/tt0112641/?pf_rd_m=A2FGELUUNOQJNL&pf_rd_p=e31d89dd-322d-4646-8962-327b42fe94b1&pf_rd_r=69H1NEBQZQZK3HNRKMYC&pf_rd_s=center-1&pf_rd_t=15506&pf_rd_i=top&ref_=chttp_tt_142',\n",
              " 'https://www.imdb.com//title/tt0457430/?pf_rd_m=A2FGELUUNOQJNL&pf_rd_p=e31d89dd-322d-4646-8962-327b42fe94b1&pf_rd_r=69H1NEBQZQZK3HNRKMYC&pf_rd_s=center-1&pf_rd_t=15506&pf_rd_i=top&ref_=chttp_tt_143',\n",
              " 'https://www.imdb.com//title/tt0040897/?pf_rd_m=A2FGELUUNOQJNL&pf_rd_p=e31d89dd-322d-4646-8962-327b42fe94b1&pf_rd_r=69H1NEBQZQZK3HNRKMYC&pf_rd_s=center-1&pf_rd_t=15506&pf_rd_i=top&ref_=chttp_tt_144',\n",
              " 'https://www.imdb.com//title/tt0268978/?pf_rd_m=A2FGELUUNOQJNL&pf_rd_p=e31d89dd-322d-4646-8962-327b42fe94b1&pf_rd_r=69H1NEBQZQZK3HNRKMYC&pf_rd_s=center-1&pf_rd_t=15506&pf_rd_i=top&ref_=chttp_tt_145',\n",
              " 'https://www.imdb.com//title/tt0469494/?pf_rd_m=A2FGELUUNOQJNL&pf_rd_p=e31d89dd-322d-4646-8962-327b42fe94b1&pf_rd_r=69H1NEBQZQZK3HNRKMYC&pf_rd_s=center-1&pf_rd_t=15506&pf_rd_i=top&ref_=chttp_tt_146',\n",
              " 'https://www.imdb.com//title/tt1305806/?pf_rd_m=A2FGELUUNOQJNL&pf_rd_p=e31d89dd-322d-4646-8962-327b42fe94b1&pf_rd_r=69H1NEBQZQZK3HNRKMYC&pf_rd_s=center-1&pf_rd_t=15506&pf_rd_i=top&ref_=chttp_tt_147',\n",
              " 'https://www.imdb.com//title/tt0081398/?pf_rd_m=A2FGELUUNOQJNL&pf_rd_p=e31d89dd-322d-4646-8962-327b42fe94b1&pf_rd_r=69H1NEBQZQZK3HNRKMYC&pf_rd_s=center-1&pf_rd_t=15506&pf_rd_i=top&ref_=chttp_tt_148',\n",
              " 'https://www.imdb.com//title/tt0096283/?pf_rd_m=A2FGELUUNOQJNL&pf_rd_p=e31d89dd-322d-4646-8962-327b42fe94b1&pf_rd_r=69H1NEBQZQZK3HNRKMYC&pf_rd_s=center-1&pf_rd_t=15506&pf_rd_i=top&ref_=chttp_tt_149',\n",
              " 'https://www.imdb.com//title/tt0071315/?pf_rd_m=A2FGELUUNOQJNL&pf_rd_p=e31d89dd-322d-4646-8962-327b42fe94b1&pf_rd_r=69H1NEBQZQZK3HNRKMYC&pf_rd_s=center-1&pf_rd_t=15506&pf_rd_i=top&ref_=chttp_tt_150',\n",
              " 'https://www.imdb.com//title/tt0120735/?pf_rd_m=A2FGELUUNOQJNL&pf_rd_p=e31d89dd-322d-4646-8962-327b42fe94b1&pf_rd_r=69H1NEBQZQZK3HNRKMYC&pf_rd_s=center-1&pf_rd_t=15506&pf_rd_i=top&ref_=chttp_tt_151',\n",
              " 'https://www.imdb.com//title/tt0015864/?pf_rd_m=A2FGELUUNOQJNL&pf_rd_p=e31d89dd-322d-4646-8962-327b42fe94b1&pf_rd_r=69H1NEBQZQZK3HNRKMYC&pf_rd_s=center-1&pf_rd_t=15506&pf_rd_i=top&ref_=chttp_tt_152',\n",
              " 'https://www.imdb.com//title/tt5027774/?pf_rd_m=A2FGELUUNOQJNL&pf_rd_p=e31d89dd-322d-4646-8962-327b42fe94b1&pf_rd_r=69H1NEBQZQZK3HNRKMYC&pf_rd_s=center-1&pf_rd_t=15506&pf_rd_i=top&ref_=chttp_tt_153',\n",
              " 'https://www.imdb.com//title/tt0046912/?pf_rd_m=A2FGELUUNOQJNL&pf_rd_p=e31d89dd-322d-4646-8962-327b42fe94b1&pf_rd_r=69H1NEBQZQZK3HNRKMYC&pf_rd_s=center-1&pf_rd_t=15506&pf_rd_i=top&ref_=chttp_tt_154',\n",
              " 'https://www.imdb.com//title/tt0477348/?pf_rd_m=A2FGELUUNOQJNL&pf_rd_p=e31d89dd-322d-4646-8962-327b42fe94b1&pf_rd_r=69H1NEBQZQZK3HNRKMYC&pf_rd_s=center-1&pf_rd_t=15506&pf_rd_i=top&ref_=chttp_tt_155',\n",
              " 'https://www.imdb.com//title/tt0050976/?pf_rd_m=A2FGELUUNOQJNL&pf_rd_p=e31d89dd-322d-4646-8962-327b42fe94b1&pf_rd_r=69H1NEBQZQZK3HNRKMYC&pf_rd_s=center-1&pf_rd_t=15506&pf_rd_i=top&ref_=chttp_tt_156',\n",
              " 'https://www.imdb.com//title/tt1130884/?pf_rd_m=A2FGELUUNOQJNL&pf_rd_p=e31d89dd-322d-4646-8962-327b42fe94b1&pf_rd_r=69H1NEBQZQZK3HNRKMYC&pf_rd_s=center-1&pf_rd_t=15506&pf_rd_i=top&ref_=chttp_tt_157',\n",
              " 'https://www.imdb.com//title/tt0080678/?pf_rd_m=A2FGELUUNOQJNL&pf_rd_p=e31d89dd-322d-4646-8962-327b42fe94b1&pf_rd_r=69H1NEBQZQZK3HNRKMYC&pf_rd_s=center-1&pf_rd_t=15506&pf_rd_i=top&ref_=chttp_tt_158',\n",
              " 'https://www.imdb.com//title/tt0084787/?pf_rd_m=A2FGELUUNOQJNL&pf_rd_p=e31d89dd-322d-4646-8962-327b42fe94b1&pf_rd_r=69H1NEBQZQZK3HNRKMYC&pf_rd_s=center-1&pf_rd_t=15506&pf_rd_i=top&ref_=chttp_tt_159',\n",
              " 'https://www.imdb.com//title/tt0167404/?pf_rd_m=A2FGELUUNOQJNL&pf_rd_p=e31d89dd-322d-4646-8962-327b42fe94b1&pf_rd_r=69H1NEBQZQZK3HNRKMYC&pf_rd_s=center-1&pf_rd_t=15506&pf_rd_i=top&ref_=chttp_tt_160',\n",
              " 'https://www.imdb.com//title/tt2096673/?pf_rd_m=A2FGELUUNOQJNL&pf_rd_p=e31d89dd-322d-4646-8962-327b42fe94b1&pf_rd_r=69H1NEBQZQZK3HNRKMYC&pf_rd_s=center-1&pf_rd_t=15506&pf_rd_i=top&ref_=chttp_tt_161',\n",
              " 'https://www.imdb.com//title/tt0434409/?pf_rd_m=A2FGELUUNOQJNL&pf_rd_p=e31d89dd-322d-4646-8962-327b42fe94b1&pf_rd_r=69H1NEBQZQZK3HNRKMYC&pf_rd_s=center-1&pf_rd_t=15506&pf_rd_i=top&ref_=chttp_tt_162',\n",
              " 'https://www.imdb.com//title/tt0041959/?pf_rd_m=A2FGELUUNOQJNL&pf_rd_p=e31d89dd-322d-4646-8962-327b42fe94b1&pf_rd_r=69H1NEBQZQZK3HNRKMYC&pf_rd_s=center-1&pf_rd_t=15506&pf_rd_i=top&ref_=chttp_tt_163',\n",
              " 'https://www.imdb.com//title/tt4729430/?pf_rd_m=A2FGELUUNOQJNL&pf_rd_p=e31d89dd-322d-4646-8962-327b42fe94b1&pf_rd_r=69H1NEBQZQZK3HNRKMYC&pf_rd_s=center-1&pf_rd_t=15506&pf_rd_i=top&ref_=chttp_tt_164',\n",
              " 'https://www.imdb.com//title/tt0083658/?pf_rd_m=A2FGELUUNOQJNL&pf_rd_p=e31d89dd-322d-4646-8962-327b42fe94b1&pf_rd_r=69H1NEBQZQZK3HNRKMYC&pf_rd_s=center-1&pf_rd_t=15506&pf_rd_i=top&ref_=chttp_tt_165',\n",
              " 'https://www.imdb.com//title/tt0050986/?pf_rd_m=A2FGELUUNOQJNL&pf_rd_p=e31d89dd-322d-4646-8962-327b42fe94b1&pf_rd_r=69H1NEBQZQZK3HNRKMYC&pf_rd_s=center-1&pf_rd_t=15506&pf_rd_i=top&ref_=chttp_tt_166',\n",
              " 'https://www.imdb.com//title/tt0050212/?pf_rd_m=A2FGELUUNOQJNL&pf_rd_p=e31d89dd-322d-4646-8962-327b42fe94b1&pf_rd_r=69H1NEBQZQZK3HNRKMYC&pf_rd_s=center-1&pf_rd_t=15506&pf_rd_i=top&ref_=chttp_tt_167',\n",
              " 'https://www.imdb.com//title/tt0476735/?pf_rd_m=A2FGELUUNOQJNL&pf_rd_p=e31d89dd-322d-4646-8962-327b42fe94b1&pf_rd_r=69H1NEBQZQZK3HNRKMYC&pf_rd_s=center-1&pf_rd_t=15506&pf_rd_i=top&ref_=chttp_tt_168',\n",
              " 'https://www.imdb.com//title/tt0117951/?pf_rd_m=A2FGELUUNOQJNL&pf_rd_p=e31d89dd-322d-4646-8962-327b42fe94b1&pf_rd_r=69H1NEBQZQZK3HNRKMYC&pf_rd_s=center-1&pf_rd_t=15506&pf_rd_i=top&ref_=chttp_tt_169',\n",
              " 'https://www.imdb.com//title/tt1291584/?pf_rd_m=A2FGELUUNOQJNL&pf_rd_p=e31d89dd-322d-4646-8962-327b42fe94b1&pf_rd_r=69H1NEBQZQZK3HNRKMYC&pf_rd_s=center-1&pf_rd_t=15506&pf_rd_i=top&ref_=chttp_tt_170',\n",
              " 'https://www.imdb.com//title/tt0107290/?pf_rd_m=A2FGELUUNOQJNL&pf_rd_p=e31d89dd-322d-4646-8962-327b42fe94b1&pf_rd_r=69H1NEBQZQZK3HNRKMYC&pf_rd_s=center-1&pf_rd_t=15506&pf_rd_i=top&ref_=chttp_tt_171',\n",
              " 'https://www.imdb.com//title/tt0120382/?pf_rd_m=A2FGELUUNOQJNL&pf_rd_p=e31d89dd-322d-4646-8962-327b42fe94b1&pf_rd_r=69H1NEBQZQZK3HNRKMYC&pf_rd_s=center-1&pf_rd_t=15506&pf_rd_i=top&ref_=chttp_tt_172',\n",
              " 'https://www.imdb.com//title/tt0116282/?pf_rd_m=A2FGELUUNOQJNL&pf_rd_p=e31d89dd-322d-4646-8962-327b42fe94b1&pf_rd_r=69H1NEBQZQZK3HNRKMYC&pf_rd_s=center-1&pf_rd_t=15506&pf_rd_i=top&ref_=chttp_tt_173',\n",
              " 'https://www.imdb.com//title/tt0266543/?pf_rd_m=A2FGELUUNOQJNL&pf_rd_p=e31d89dd-322d-4646-8962-327b42fe94b1&pf_rd_r=69H1NEBQZQZK3HNRKMYC&pf_rd_s=center-1&pf_rd_t=15506&pf_rd_i=top&ref_=chttp_tt_174',\n",
              " 'https://www.imdb.com//title/tt0031381/?pf_rd_m=A2FGELUUNOQJNL&pf_rd_p=e31d89dd-322d-4646-8962-327b42fe94b1&pf_rd_r=69H1NEBQZQZK3HNRKMYC&pf_rd_s=center-1&pf_rd_t=15506&pf_rd_i=top&ref_=chttp_tt_175',\n",
              " 'https://www.imdb.com//title/tt0046438/?pf_rd_m=A2FGELUUNOQJNL&pf_rd_p=e31d89dd-322d-4646-8962-327b42fe94b1&pf_rd_r=69H1NEBQZQZK3HNRKMYC&pf_rd_s=center-1&pf_rd_t=15506&pf_rd_i=top&ref_=chttp_tt_176',\n",
              " 'https://www.imdb.com//title/tt0353969/?pf_rd_m=A2FGELUUNOQJNL&pf_rd_p=e31d89dd-322d-4646-8962-327b42fe94b1&pf_rd_r=69H1NEBQZQZK3HNRKMYC&pf_rd_s=center-1&pf_rd_t=15506&pf_rd_i=top&ref_=chttp_tt_177',\n",
              " 'https://www.imdb.com//title/tt0266697/?pf_rd_m=A2FGELUUNOQJNL&pf_rd_p=e31d89dd-322d-4646-8962-327b42fe94b1&pf_rd_r=69H1NEBQZQZK3HNRKMYC&pf_rd_s=center-1&pf_rd_t=15506&pf_rd_i=top&ref_=chttp_tt_178',\n",
              " 'https://www.imdb.com//title/tt0047296/?pf_rd_m=A2FGELUUNOQJNL&pf_rd_p=e31d89dd-322d-4646-8962-327b42fe94b1&pf_rd_r=69H1NEBQZQZK3HNRKMYC&pf_rd_s=center-1&pf_rd_t=15506&pf_rd_i=top&ref_=chttp_tt_179',\n",
              " 'https://www.imdb.com//title/tt0079944/?pf_rd_m=A2FGELUUNOQJNL&pf_rd_p=e31d89dd-322d-4646-8962-327b42fe94b1&pf_rd_r=69H1NEBQZQZK3HNRKMYC&pf_rd_s=center-1&pf_rd_t=15506&pf_rd_i=top&ref_=chttp_tt_180',\n",
              " 'https://www.imdb.com//title/tt0017925/?pf_rd_m=A2FGELUUNOQJNL&pf_rd_p=e31d89dd-322d-4646-8962-327b42fe94b1&pf_rd_r=69H1NEBQZQZK3HNRKMYC&pf_rd_s=center-1&pf_rd_t=15506&pf_rd_i=top&ref_=chttp_tt_181',\n",
              " 'https://www.imdb.com//title/tt0077416/?pf_rd_m=A2FGELUUNOQJNL&pf_rd_p=e31d89dd-322d-4646-8962-327b42fe94b1&pf_rd_r=69H1NEBQZQZK3HNRKMYC&pf_rd_s=center-1&pf_rd_t=15506&pf_rd_i=top&ref_=chttp_tt_182',\n",
              " 'https://www.imdb.com//title/tt3011894/?pf_rd_m=A2FGELUUNOQJNL&pf_rd_p=e31d89dd-322d-4646-8962-327b42fe94b1&pf_rd_r=69H1NEBQZQZK3HNRKMYC&pf_rd_s=center-1&pf_rd_t=15506&pf_rd_i=top&ref_=chttp_tt_183',\n",
              " 'https://www.imdb.com//title/tt1205489/?pf_rd_m=A2FGELUUNOQJNL&pf_rd_p=e31d89dd-322d-4646-8962-327b42fe94b1&pf_rd_r=69H1NEBQZQZK3HNRKMYC&pf_rd_s=center-1&pf_rd_t=15506&pf_rd_i=top&ref_=chttp_tt_184',\n",
              " 'https://www.imdb.com//title/tt0015324/?pf_rd_m=A2FGELUUNOQJNL&pf_rd_p=e31d89dd-322d-4646-8962-327b42fe94b1&pf_rd_r=69H1NEBQZQZK3HNRKMYC&pf_rd_s=center-1&pf_rd_t=15506&pf_rd_i=top&ref_=chttp_tt_185',\n",
              " 'https://www.imdb.com//title/tt3170832/?pf_rd_m=A2FGELUUNOQJNL&pf_rd_p=e31d89dd-322d-4646-8962-327b42fe94b1&pf_rd_r=69H1NEBQZQZK3HNRKMYC&pf_rd_s=center-1&pf_rd_t=15506&pf_rd_i=top&ref_=chttp_tt_186',\n",
              " 'https://www.imdb.com//title/tt2278388/?pf_rd_m=A2FGELUUNOQJNL&pf_rd_p=e31d89dd-322d-4646-8962-327b42fe94b1&pf_rd_r=69H1NEBQZQZK3HNRKMYC&pf_rd_s=center-1&pf_rd_t=15506&pf_rd_i=top&ref_=chttp_tt_187',\n",
              " 'https://www.imdb.com//title/tt0978762/?pf_rd_m=A2FGELUUNOQJNL&pf_rd_p=e31d89dd-322d-4646-8962-327b42fe94b1&pf_rd_r=69H1NEBQZQZK3HNRKMYC&pf_rd_s=center-1&pf_rd_t=15506&pf_rd_i=top&ref_=chttp_tt_188',\n",
              " 'https://www.imdb.com//title/tt0112471/?pf_rd_m=A2FGELUUNOQJNL&pf_rd_p=e31d89dd-322d-4646-8962-327b42fe94b1&pf_rd_r=69H1NEBQZQZK3HNRKMYC&pf_rd_s=center-1&pf_rd_t=15506&pf_rd_i=top&ref_=chttp_tt_189',\n",
              " 'https://www.imdb.com//title/tt0060827/?pf_rd_m=A2FGELUUNOQJNL&pf_rd_p=e31d89dd-322d-4646-8962-327b42fe94b1&pf_rd_r=69H1NEBQZQZK3HNRKMYC&pf_rd_s=center-1&pf_rd_t=15506&pf_rd_i=top&ref_=chttp_tt_190',\n",
              " 'https://www.imdb.com//title/tt0107207/?pf_rd_m=A2FGELUUNOQJNL&pf_rd_p=e31d89dd-322d-4646-8962-327b42fe94b1&pf_rd_r=69H1NEBQZQZK3HNRKMYC&pf_rd_s=center-1&pf_rd_t=15506&pf_rd_i=top&ref_=chttp_tt_191',\n",
              " 'https://www.imdb.com//title/tt0031679/?pf_rd_m=A2FGELUUNOQJNL&pf_rd_p=e31d89dd-322d-4646-8962-327b42fe94b1&pf_rd_r=69H1NEBQZQZK3HNRKMYC&pf_rd_s=center-1&pf_rd_t=15506&pf_rd_i=top&ref_=chttp_tt_192',\n",
              " 'https://www.imdb.com//title/tt1392214/?pf_rd_m=A2FGELUUNOQJNL&pf_rd_p=e31d89dd-322d-4646-8962-327b42fe94b1&pf_rd_r=69H1NEBQZQZK3HNRKMYC&pf_rd_s=center-1&pf_rd_t=15506&pf_rd_i=top&ref_=chttp_tt_193',\n",
              " 'https://www.imdb.com//title/tt0035446/?pf_rd_m=A2FGELUUNOQJNL&pf_rd_p=e31d89dd-322d-4646-8962-327b42fe94b1&pf_rd_r=69H1NEBQZQZK3HNRKMYC&pf_rd_s=center-1&pf_rd_t=15506&pf_rd_i=top&ref_=chttp_tt_194',\n",
              " 'https://www.imdb.com//title/tt2267998/?pf_rd_m=A2FGELUUNOQJNL&pf_rd_p=e31d89dd-322d-4646-8962-327b42fe94b1&pf_rd_r=69H1NEBQZQZK3HNRKMYC&pf_rd_s=center-1&pf_rd_t=15506&pf_rd_i=top&ref_=chttp_tt_195',\n",
              " 'https://www.imdb.com//title/tt0264464/?pf_rd_m=A2FGELUUNOQJNL&pf_rd_p=e31d89dd-322d-4646-8962-327b42fe94b1&pf_rd_r=69H1NEBQZQZK3HNRKMYC&pf_rd_s=center-1&pf_rd_t=15506&pf_rd_i=top&ref_=chttp_tt_196',\n",
              " 'https://www.imdb.com//title/tt2119532/?pf_rd_m=A2FGELUUNOQJNL&pf_rd_p=e31d89dd-322d-4646-8962-327b42fe94b1&pf_rd_r=69H1NEBQZQZK3HNRKMYC&pf_rd_s=center-1&pf_rd_t=15506&pf_rd_i=top&ref_=chttp_tt_197',\n",
              " 'https://www.imdb.com//title/tt0118715/?pf_rd_m=A2FGELUUNOQJNL&pf_rd_p=e31d89dd-322d-4646-8962-327b42fe94b1&pf_rd_r=69H1NEBQZQZK3HNRKMYC&pf_rd_s=center-1&pf_rd_t=15506&pf_rd_i=top&ref_=chttp_tt_198',\n",
              " 'https://www.imdb.com//title/tt0072684/?pf_rd_m=A2FGELUUNOQJNL&pf_rd_p=e31d89dd-322d-4646-8962-327b42fe94b1&pf_rd_r=69H1NEBQZQZK3HNRKMYC&pf_rd_s=center-1&pf_rd_t=15506&pf_rd_i=top&ref_=chttp_tt_199',\n",
              " 'https://www.imdb.com//title/tt2024544/?pf_rd_m=A2FGELUUNOQJNL&pf_rd_p=e31d89dd-322d-4646-8962-327b42fe94b1&pf_rd_r=69H1NEBQZQZK3HNRKMYC&pf_rd_s=center-1&pf_rd_t=15506&pf_rd_i=top&ref_=chttp_tt_200',\n",
              " 'https://www.imdb.com//title/tt8108198/?pf_rd_m=A2FGELUUNOQJNL&pf_rd_p=e31d89dd-322d-4646-8962-327b42fe94b1&pf_rd_r=69H1NEBQZQZK3HNRKMYC&pf_rd_s=center-1&pf_rd_t=15506&pf_rd_i=top&ref_=chttp_tt_201',\n",
              " 'https://www.imdb.com//title/tt1950186/?pf_rd_m=A2FGELUUNOQJNL&pf_rd_p=e31d89dd-322d-4646-8962-327b42fe94b1&pf_rd_r=69H1NEBQZQZK3HNRKMYC&pf_rd_s=center-1&pf_rd_t=15506&pf_rd_i=top&ref_=chttp_tt_202',\n",
              " 'https://www.imdb.com//title/tt0019254/?pf_rd_m=A2FGELUUNOQJNL&pf_rd_p=e31d89dd-322d-4646-8962-327b42fe94b1&pf_rd_r=69H1NEBQZQZK3HNRKMYC&pf_rd_s=center-1&pf_rd_t=15506&pf_rd_i=top&ref_=chttp_tt_203',\n",
              " 'https://www.imdb.com//title/tt0892769/?pf_rd_m=A2FGELUUNOQJNL&pf_rd_p=e31d89dd-322d-4646-8962-327b42fe94b1&pf_rd_r=69H1NEBQZQZK3HNRKMYC&pf_rd_s=center-1&pf_rd_t=15506&pf_rd_i=top&ref_=chttp_tt_204',\n",
              " 'https://www.imdb.com//title/tt1392190/?pf_rd_m=A2FGELUUNOQJNL&pf_rd_p=e31d89dd-322d-4646-8962-327b42fe94b1&pf_rd_r=69H1NEBQZQZK3HNRKMYC&pf_rd_s=center-1&pf_rd_t=15506&pf_rd_i=top&ref_=chttp_tt_205',\n",
              " 'https://www.imdb.com//title/tt0046268/?pf_rd_m=A2FGELUUNOQJNL&pf_rd_p=e31d89dd-322d-4646-8962-327b42fe94b1&pf_rd_r=69H1NEBQZQZK3HNRKMYC&pf_rd_s=center-1&pf_rd_t=15506&pf_rd_i=top&ref_=chttp_tt_206',\n",
              " 'https://www.imdb.com//title/tt0405159/?pf_rd_m=A2FGELUUNOQJNL&pf_rd_p=e31d89dd-322d-4646-8962-327b42fe94b1&pf_rd_r=69H1NEBQZQZK3HNRKMYC&pf_rd_s=center-1&pf_rd_t=15506&pf_rd_i=top&ref_=chttp_tt_207',\n",
              " 'https://www.imdb.com//title/tt0052618/?pf_rd_m=A2FGELUUNOQJNL&pf_rd_p=e31d89dd-322d-4646-8962-327b42fe94b1&pf_rd_r=69H1NEBQZQZK3HNRKMYC&pf_rd_s=center-1&pf_rd_t=15506&pf_rd_i=top&ref_=chttp_tt_208',\n",
              " 'https://www.imdb.com//title/tt0074958/?pf_rd_m=A2FGELUUNOQJNL&pf_rd_p=e31d89dd-322d-4646-8962-327b42fe94b1&pf_rd_r=69H1NEBQZQZK3HNRKMYC&pf_rd_s=center-1&pf_rd_t=15506&pf_rd_i=top&ref_=chttp_tt_209',\n",
              " 'https://www.imdb.com//title/tt0077711/?pf_rd_m=A2FGELUUNOQJNL&pf_rd_p=e31d89dd-322d-4646-8962-327b42fe94b1&pf_rd_r=69H1NEBQZQZK3HNRKMYC&pf_rd_s=center-1&pf_rd_t=15506&pf_rd_i=top&ref_=chttp_tt_210',\n",
              " 'https://www.imdb.com//title/tt0097165/?pf_rd_m=A2FGELUUNOQJNL&pf_rd_p=e31d89dd-322d-4646-8962-327b42fe94b1&pf_rd_r=69H1NEBQZQZK3HNRKMYC&pf_rd_s=center-1&pf_rd_t=15506&pf_rd_i=top&ref_=chttp_tt_211',\n",
              " 'https://www.imdb.com//title/tt0092005/?pf_rd_m=A2FGELUUNOQJNL&pf_rd_p=e31d89dd-322d-4646-8962-327b42fe94b1&pf_rd_r=69H1NEBQZQZK3HNRKMYC&pf_rd_s=center-1&pf_rd_t=15506&pf_rd_i=top&ref_=chttp_tt_212',\n",
              " 'https://www.imdb.com//title/tt1201607/?pf_rd_m=A2FGELUUNOQJNL&pf_rd_p=e31d89dd-322d-4646-8962-327b42fe94b1&pf_rd_r=69H1NEBQZQZK3HNRKMYC&pf_rd_s=center-1&pf_rd_t=15506&pf_rd_i=top&ref_=chttp_tt_213',\n",
              " 'https://www.imdb.com//title/tt0061512/?pf_rd_m=A2FGELUUNOQJNL&pf_rd_p=e31d89dd-322d-4646-8962-327b42fe94b1&pf_rd_r=69H1NEBQZQZK3HNRKMYC&pf_rd_s=center-1&pf_rd_t=15506&pf_rd_i=top&ref_=chttp_tt_214',\n",
              " 'https://www.imdb.com//title/tt0053198/?pf_rd_m=A2FGELUUNOQJNL&pf_rd_p=e31d89dd-322d-4646-8962-327b42fe94b1&pf_rd_r=69H1NEBQZQZK3HNRKMYC&pf_rd_s=center-1&pf_rd_t=15506&pf_rd_i=top&ref_=chttp_tt_215',\n",
              " 'https://www.imdb.com//title/tt0116231/?pf_rd_m=A2FGELUUNOQJNL&pf_rd_p=e31d89dd-322d-4646-8962-327b42fe94b1&pf_rd_r=69H1NEBQZQZK3HNRKMYC&pf_rd_s=center-1&pf_rd_t=15506&pf_rd_i=top&ref_=chttp_tt_216',\n",
              " 'https://www.imdb.com//title/tt4016934/?pf_rd_m=A2FGELUUNOQJNL&pf_rd_p=e31d89dd-322d-4646-8962-327b42fe94b1&pf_rd_r=69H1NEBQZQZK3HNRKMYC&pf_rd_s=center-1&pf_rd_t=15506&pf_rd_i=top&ref_=chttp_tt_217',\n",
              " 'https://www.imdb.com//title/tt3315342/?pf_rd_m=A2FGELUUNOQJNL&pf_rd_p=e31d89dd-322d-4646-8962-327b42fe94b1&pf_rd_r=69H1NEBQZQZK3HNRKMYC&pf_rd_s=center-1&pf_rd_t=15506&pf_rd_i=top&ref_=chttp_tt_218',\n",
              " 'https://www.imdb.com//title/tt0091763/?pf_rd_m=A2FGELUUNOQJNL&pf_rd_p=e31d89dd-322d-4646-8962-327b42fe94b1&pf_rd_r=69H1NEBQZQZK3HNRKMYC&pf_rd_s=center-1&pf_rd_t=15506&pf_rd_i=top&ref_=chttp_tt_219',\n",
              " 'https://www.imdb.com//title/tt1028532/?pf_rd_m=A2FGELUUNOQJNL&pf_rd_p=e31d89dd-322d-4646-8962-327b42fe94b1&pf_rd_r=69H1NEBQZQZK3HNRKMYC&pf_rd_s=center-1&pf_rd_t=15506&pf_rd_i=top&ref_=chttp_tt_220',\n",
              " 'https://www.imdb.com//title/tt0079470/?pf_rd_m=A2FGELUUNOQJNL&pf_rd_p=e31d89dd-322d-4646-8962-327b42fe94b1&pf_rd_r=69H1NEBQZQZK3HNRKMYC&pf_rd_s=center-1&pf_rd_t=15506&pf_rd_i=top&ref_=chttp_tt_221',\n",
              " 'https://www.imdb.com//title/tt0113247/?pf_rd_m=A2FGELUUNOQJNL&pf_rd_p=e31d89dd-322d-4646-8962-327b42fe94b1&pf_rd_r=69H1NEBQZQZK3HNRKMYC&pf_rd_s=center-1&pf_rd_t=15506&pf_rd_i=top&ref_=chttp_tt_222',\n",
              " 'https://www.imdb.com//title/tt1895587/?pf_rd_m=A2FGELUUNOQJNL&pf_rd_p=e31d89dd-322d-4646-8962-327b42fe94b1&pf_rd_r=69H1NEBQZQZK3HNRKMYC&pf_rd_s=center-1&pf_rd_t=15506&pf_rd_i=top&ref_=chttp_tt_223',\n",
              " 'https://www.imdb.com//title/tt0395169/?pf_rd_m=A2FGELUUNOQJNL&pf_rd_p=e31d89dd-322d-4646-8962-327b42fe94b1&pf_rd_r=69H1NEBQZQZK3HNRKMYC&pf_rd_s=center-1&pf_rd_t=15506&pf_rd_i=top&ref_=chttp_tt_224',\n",
              " 'https://www.imdb.com//title/tt0758758/?pf_rd_m=A2FGELUUNOQJNL&pf_rd_p=e31d89dd-322d-4646-8962-327b42fe94b1&pf_rd_r=69H1NEBQZQZK3HNRKMYC&pf_rd_s=center-1&pf_rd_t=15506&pf_rd_i=top&ref_=chttp_tt_225',\n",
              " 'https://www.imdb.com//title/tt1979320/?pf_rd_m=A2FGELUUNOQJNL&pf_rd_p=e31d89dd-322d-4646-8962-327b42fe94b1&pf_rd_r=69H1NEBQZQZK3HNRKMYC&pf_rd_s=center-1&pf_rd_t=15506&pf_rd_i=top&ref_=chttp_tt_226',\n",
              " 'https://www.imdb.com//title/tt0032976/?pf_rd_m=A2FGELUUNOQJNL&pf_rd_p=e31d89dd-322d-4646-8962-327b42fe94b1&pf_rd_r=69H1NEBQZQZK3HNRKMYC&pf_rd_s=center-1&pf_rd_t=15506&pf_rd_i=top&ref_=chttp_tt_227',\n",
              " 'https://www.imdb.com//title/tt0060107/?pf_rd_m=A2FGELUUNOQJNL&pf_rd_p=e31d89dd-322d-4646-8962-327b42fe94b1&pf_rd_r=69H1NEBQZQZK3HNRKMYC&pf_rd_s=center-1&pf_rd_t=15506&pf_rd_i=top&ref_=chttp_tt_228',\n",
              " 'https://www.imdb.com//title/tt0198781/?pf_rd_m=A2FGELUUNOQJNL&pf_rd_p=e31d89dd-322d-4646-8962-327b42fe94b1&pf_rd_r=69H1NEBQZQZK3HNRKMYC&pf_rd_s=center-1&pf_rd_t=15506&pf_rd_i=top&ref_=chttp_tt_229',\n",
              " 'https://www.imdb.com//title/tt0245712/?pf_rd_m=A2FGELUUNOQJNL&pf_rd_p=e31d89dd-322d-4646-8962-327b42fe94b1&pf_rd_r=69H1NEBQZQZK3HNRKMYC&pf_rd_s=center-1&pf_rd_t=15506&pf_rd_i=top&ref_=chttp_tt_230',\n",
              " 'https://www.imdb.com//title/tt0075148/?pf_rd_m=A2FGELUUNOQJNL&pf_rd_p=e31d89dd-322d-4646-8962-327b42fe94b1&pf_rd_r=69H1NEBQZQZK3HNRKMYC&pf_rd_s=center-1&pf_rd_t=15506&pf_rd_i=top&ref_=chttp_tt_231',\n",
              " 'https://www.imdb.com//title/tt0087544/?pf_rd_m=A2FGELUUNOQJNL&pf_rd_p=e31d89dd-322d-4646-8962-327b42fe94b1&pf_rd_r=69H1NEBQZQZK3HNRKMYC&pf_rd_s=center-1&pf_rd_t=15506&pf_rd_i=top&ref_=chttp_tt_232',\n",
              " 'https://www.imdb.com//title/tt2948372/?pf_rd_m=A2FGELUUNOQJNL&pf_rd_p=e31d89dd-322d-4646-8962-327b42fe94b1&pf_rd_r=69H1NEBQZQZK3HNRKMYC&pf_rd_s=center-1&pf_rd_t=15506&pf_rd_i=top&ref_=chttp_tt_233',\n",
              " 'https://www.imdb.com//title/tt7060344/?pf_rd_m=A2FGELUUNOQJNL&pf_rd_p=e31d89dd-322d-4646-8962-327b42fe94b1&pf_rd_r=69H1NEBQZQZK3HNRKMYC&pf_rd_s=center-1&pf_rd_t=15506&pf_rd_i=top&ref_=chttp_tt_234',\n",
              " 'https://www.imdb.com//title/tt0118694/?pf_rd_m=A2FGELUUNOQJNL&pf_rd_p=e31d89dd-322d-4646-8962-327b42fe94b1&pf_rd_r=69H1NEBQZQZK3HNRKMYC&pf_rd_s=center-1&pf_rd_t=15506&pf_rd_i=top&ref_=chttp_tt_235',\n",
              " 'https://www.imdb.com//title/tt0025316/?pf_rd_m=A2FGELUUNOQJNL&pf_rd_p=e31d89dd-322d-4646-8962-327b42fe94b1&pf_rd_r=69H1NEBQZQZK3HNRKMYC&pf_rd_s=center-1&pf_rd_t=15506&pf_rd_i=top&ref_=chttp_tt_236',\n",
              " 'https://www.imdb.com//title/tt0048021/?pf_rd_m=A2FGELUUNOQJNL&pf_rd_p=e31d89dd-322d-4646-8962-327b42fe94b1&pf_rd_r=69H1NEBQZQZK3HNRKMYC&pf_rd_s=center-1&pf_rd_t=15506&pf_rd_i=top&ref_=chttp_tt_237',\n",
              " 'https://www.imdb.com//title/tt0058946/?pf_rd_m=A2FGELUUNOQJNL&pf_rd_p=e31d89dd-322d-4646-8962-327b42fe94b1&pf_rd_r=69H1NEBQZQZK3HNRKMYC&pf_rd_s=center-1&pf_rd_t=15506&pf_rd_i=top&ref_=chttp_tt_238',\n",
              " 'https://www.imdb.com//title/tt5323662/?pf_rd_m=A2FGELUUNOQJNL&pf_rd_p=e31d89dd-322d-4646-8962-327b42fe94b1&pf_rd_r=69H1NEBQZQZK3HNRKMYC&pf_rd_s=center-1&pf_rd_t=15506&pf_rd_i=top&ref_=chttp_tt_239',\n",
              " 'https://www.imdb.com//title/tt0381681/?pf_rd_m=A2FGELUUNOQJNL&pf_rd_p=e31d89dd-322d-4646-8962-327b42fe94b1&pf_rd_r=69H1NEBQZQZK3HNRKMYC&pf_rd_s=center-1&pf_rd_t=15506&pf_rd_i=top&ref_=chttp_tt_240',\n",
              " 'https://www.imdb.com//title/tt1954470/?pf_rd_m=A2FGELUUNOQJNL&pf_rd_p=e31d89dd-322d-4646-8962-327b42fe94b1&pf_rd_r=69H1NEBQZQZK3HNRKMYC&pf_rd_s=center-1&pf_rd_t=15506&pf_rd_i=top&ref_=chttp_tt_241',\n",
              " 'https://www.imdb.com//title/tt0018455/?pf_rd_m=A2FGELUUNOQJNL&pf_rd_p=e31d89dd-322d-4646-8962-327b42fe94b1&pf_rd_r=69H1NEBQZQZK3HNRKMYC&pf_rd_s=center-1&pf_rd_t=15506&pf_rd_i=top&ref_=chttp_tt_242',\n",
              " 'https://www.imdb.com//title/tt0083922/?pf_rd_m=A2FGELUUNOQJNL&pf_rd_p=e31d89dd-322d-4646-8962-327b42fe94b1&pf_rd_r=69H1NEBQZQZK3HNRKMYC&pf_rd_s=center-1&pf_rd_t=15506&pf_rd_i=top&ref_=chttp_tt_243',\n",
              " 'https://www.imdb.com//title/tt0093779/?pf_rd_m=A2FGELUUNOQJNL&pf_rd_p=e31d89dd-322d-4646-8962-327b42fe94b1&pf_rd_r=69H1NEBQZQZK3HNRKMYC&pf_rd_s=center-1&pf_rd_t=15506&pf_rd_i=top&ref_=chttp_tt_244',\n",
              " 'https://www.imdb.com//title/tt0111495/?pf_rd_m=A2FGELUUNOQJNL&pf_rd_p=e31d89dd-322d-4646-8962-327b42fe94b1&pf_rd_r=69H1NEBQZQZK3HNRKMYC&pf_rd_s=center-1&pf_rd_t=15506&pf_rd_i=top&ref_=chttp_tt_245',\n",
              " 'https://www.imdb.com//title/tt0066763/?pf_rd_m=A2FGELUUNOQJNL&pf_rd_p=e31d89dd-322d-4646-8962-327b42fe94b1&pf_rd_r=69H1NEBQZQZK3HNRKMYC&pf_rd_s=center-1&pf_rd_t=15506&pf_rd_i=top&ref_=chttp_tt_246',\n",
              " 'https://www.imdb.com//title/tt0097223/?pf_rd_m=A2FGELUUNOQJNL&pf_rd_p=e31d89dd-322d-4646-8962-327b42fe94b1&pf_rd_r=69H1NEBQZQZK3HNRKMYC&pf_rd_s=center-1&pf_rd_t=15506&pf_rd_i=top&ref_=chttp_tt_247',\n",
              " 'https://www.imdb.com//title/tt0050783/?pf_rd_m=A2FGELUUNOQJNL&pf_rd_p=e31d89dd-322d-4646-8962-327b42fe94b1&pf_rd_r=69H1NEBQZQZK3HNRKMYC&pf_rd_s=center-1&pf_rd_t=15506&pf_rd_i=top&ref_=chttp_tt_248',\n",
              " 'https://www.imdb.com//title/tt0050613/?pf_rd_m=A2FGELUUNOQJNL&pf_rd_p=e31d89dd-322d-4646-8962-327b42fe94b1&pf_rd_r=69H1NEBQZQZK3HNRKMYC&pf_rd_s=center-1&pf_rd_t=15506&pf_rd_i=top&ref_=chttp_tt_249',\n",
              " 'https://www.imdb.com//title/tt0056217/?pf_rd_m=A2FGELUUNOQJNL&pf_rd_p=e31d89dd-322d-4646-8962-327b42fe94b1&pf_rd_r=69H1NEBQZQZK3HNRKMYC&pf_rd_s=center-1&pf_rd_t=15506&pf_rd_i=top&ref_=chttp_tt_250']"
            ]
          },
          "metadata": {
            "tags": []
          },
          "execution_count": 128
        }
      ]
    },
    {
      "cell_type": "code",
      "metadata": {
        "id": "PAokfBtMeOqb"
      },
      "source": [
        "plot=[]\n",
        "genre=[]\n",
        "for i in link:\n",
        "  p=requests.get(i,headers=headers)\n",
        "  s=BeautifulSoup(p.text,\"html.parser\")\n",
        "  z=s.find_all(\"div\",{\"class\":\"subtext\"})\n",
        "  g=[]\n",
        "  for item in z:\n",
        "    \n",
        "\n",
        "    p=item.find_all(\"a\")\n",
        "    g=[]\n",
        "    for i in p:\n",
        "     \n",
        "      g.append(i.text)\n",
        "  \n",
        "  genre.append(g[:-1])\n",
        "\n",
        "  plot.append(s.find(\"div\",{\"class\":\"summary_text\"}).text)\n",
        "\n",
        " \n",
        "\n",
        "\n",
        "\n"
      ],
      "execution_count": null,
      "outputs": []
    },
    {
      "cell_type": "code",
      "metadata": {
        "colab": {
          "base_uri": "https://localhost:8080/"
        },
        "id": "NzmGdVmXqQpc",
        "outputId": "252a1343-5dc9-4171-a046-5b6b12bce491"
      },
      "source": [
        "plot"
      ],
      "execution_count": null,
      "outputs": [
        {
          "output_type": "execute_result",
          "data": {
            "text/plain": [
              "['\\n                    Two imprisoned men bond over a number of years, finding solace and eventual redemption through acts of common decency.\\n            ',\n",
              " \"\\n                    An organized crime dynasty's aging patriarch transfers control of his clandestine empire to his reluctant son.\\n            \",\n",
              " '\\n                    The early life and career of Vito Corleone in 1920s New York City is portrayed, while his son, Michael, expands and tightens his grip on the family crime syndicate.\\n            ',\n",
              " '\\n                    When the menace known as the Joker wreaks havoc and chaos on the people of Gotham, Batman must accept one of the greatest psychological and physical tests of his ability to fight injustice.\\n            ',\n",
              " '\\n                    A jury holdout attempts to prevent a miscarriage of justice by forcing his colleagues to reconsider the evidence.\\n            ',\n",
              " '\\n                    In German-occupied Poland during World War II, industrialist Oskar Schindler gradually becomes concerned for his Jewish workforce after witnessing their persecution by the Nazis.\\n            ',\n",
              " \"\\n                    Gandalf and Aragorn lead the World of Men against Sauron's army to draw his gaze from Frodo and Sam as they approach Mount Doom with the One Ring.\\n            \",\n",
              " '\\n                    The lives of two mob hitmen, a boxer, a gangster and his wife, and a pair of diner bandits intertwine in four tales of violence and redemption.\\n            ',\n",
              " '\\n                    A bounty hunting scam joins two men in an uneasy alliance against a third in a race to find a fortune in gold buried in a remote cemetery.\\n            ',\n",
              " '\\n                    A meek Hobbit from the Shire and eight companions set out on a journey to destroy the powerful One Ring and save Middle-earth from the Dark Lord Sauron.\\n            ',\n",
              " '\\n                    An insomniac office worker and a devil-may-care soap maker form an underground fight club that evolves into much more.\\n            ',\n",
              " '\\n                    The presidencies of Kennedy and Johnson, the Vietnam War, the Watergate scandal and other historical events unfold from the perspective of an Alabama man with an IQ of 75, whose only desire is to be reunited with his childhood sweetheart.\\n            ',\n",
              " '\\n                    A thief who steals corporate secrets through the use of dream-sharing technology is given the inverse task of planting an idea into the mind of a C.E.O.\\n            ',\n",
              " \"\\n                    While Frodo and Sam edge closer to Mordor with the help of the shifty Gollum, the divided fellowship makes a stand against Sauron's new ally, Saruman, and his hordes of Isengard.\\n            \",\n",
              " '\\n                    After the Rebels are brutally overpowered by the Empire on the ice planet Hoth, Luke Skywalker begins Jedi training with Yoda, while his friends are pursued by Darth Vader and a bounty hunter named Boba Fett all over the galaxy.\\n            ',\n",
              " '\\n                    When a beautiful stranger leads computer hacker Neo to a forbidding underworld, he discovers the shocking truth--the life he knows is the elaborate deception of an evil cyber-intelligence.\\n            ',\n",
              " '\\n                    The story of Henry Hill and his life in the mob, covering his relationship with his wife Karen Hill and his mob partners Jimmy Conway and Tommy DeVito in the Italian-American crime syndicate.\\n            ',\n",
              " '\\n                    A criminal pleads insanity and is admitted to a mental institution, where he rebels against the oppressive nurse and rallies up the scared patients.\\n            ',\n",
              " '\\n                    A poor village under attack by bandits recruits seven unemployed samurai to help them defend themselves.\\n            ',\n",
              " '\\n                    Two detectives, a rookie and a veteran, hunt a serial killer who uses the seven deadly sins as his motives.\\n            ',\n",
              " '\\n                    A young F.B.I. cadet must receive the help of an incarcerated and manipulative cannibal killer to help catch another serial killer, a madman who skins his victims.\\n            ',\n",
              " \"\\n                    In the slums of Rio, two kids' paths diverge as one struggles to become a photographer and the other a kingpin.\\n            \",\n",
              " '\\n                    When an open-minded Jewish librarian and his son become victims of the Holocaust, he uses a perfect mixture of will, humor, and imagination to protect his son from the dangers around their camp.\\n            ',\n",
              " '\\n                    An angel is sent from Heaven to help a desperately frustrated businessman by showing him what life would have been like if he had never existed.\\n            ',\n",
              " \"\\n                    Luke Skywalker joins forces with a Jedi Knight, a cocky pilot, a Wookiee and two droids to save the galaxy from the Empire's world-destroying battle station, while also attempting to rescue Princess Leia from the mysterious Darth Vader.\\n            \",\n",
              " '\\n                    Following the Normandy Landings, a group of U.S. soldiers go behind enemy lines to retrieve a paratrooper whose brothers have been killed in action.\\n            ',\n",
              " \"\\n                    During her family's move to the suburbs, a sullen 10-year-old girl wanders into a world ruled by gods, witches, and spirits, and where humans are changed into beasts.\\n            \",\n",
              " '\\n                    The lives of guards on Death Row are affected by one of their charges: a black man accused of child murder and rape, yet who has a mysterious gift.\\n            ',\n",
              " \"\\n                    A team of explorers travel through a wormhole in space in an attempt to ensure humanity's survival.\\n            \",\n",
              " '\\n                    Greed and class discrimination threaten the newly formed symbiotic relationship between the wealthy Park family and the destitute Kim clan.\\n            ',\n",
              " \"\\n                    Mathilda, a 12-year-old girl, is reluctantly taken in by Léon, a professional assassin, after her family is murdered. An unusual relationship forms as she becomes his protégée and learns the assassin's trade.\\n            \",\n",
              " \"\\n                    When a ronin requesting seppuku at a feudal lord's palace is told of the brutal suicide of another ronin who previously visited, he reveals how their pasts are intertwined - and in doing so challenges the clan's integrity.\\n            \",\n",
              " '\\n                    A sole survivor tells of the twisty events leading up to a horrific gun battle on a boat, which began when five criminals met at a seemingly random police lineup.\\n            ',\n",
              " '\\n                    A Polish Jewish musician struggles to survive the destruction of the Warsaw ghetto of World War II.\\n            ',\n",
              " '\\n                    Marty McFly, a 17-year-old high school student, is accidentally sent thirty years into the past in a time-traveling DeLorean invented by his close friend, the eccentric scientist Doc Brown.\\n            ',\n",
              " '\\n                    A cyborg, identical to the one who failed to kill Sarah Connor, must now protect her ten year old son, John Connor, from a more advanced and powerful cyborg.\\n            ',\n",
              " '\\n                    The Tramp struggles to live in modern industrial society with the help of a young homeless woman.\\n            ',\n",
              " \"\\n                    A Phoenix secretary embezzles $40,000 from her employer's client, goes on the run, and checks into a remote motel run by a young man under the domination of his mother.\\n            \",\n",
              " '\\n                    Lion prince Simba and his father are targeted by his bitter uncle, who wants to ascend the throne himself.\\n            ',\n",
              " '\\n                    A former neo-nazi skinhead tries to prevent his younger brother from going down the same wrong path that he did.\\n            ',\n",
              " '\\n                    With the aid of a wealthy erratic tippler, a dewy-eyed tramp who has fallen in love with a sightless flower girl accumulates money to be able to help her medically.\\n            ',\n",
              " '\\n                    A former Roman General sets out to exact vengeance against the corrupt emperor who murdered his family and sent him into slavery.\\n            ',\n",
              " '\\n                    An undercover cop and a mole in the police attempt to identify each other while infiltrating an Irish gang in South Boston.\\n            ',\n",
              " \"\\n                    A promising young drummer enrolls at a cut-throat music conservatory where his dreams of greatness are mentored by an instructor who will stop at nothing to realize a student's potential.\\n            \",\n",
              " '\\n                    A young boy and his little sister struggle to survive in Japan during World War II.\\n            ',\n",
              " '\\n                    After he becomes a quadriplegic from a paragliding accident, an aristocrat hires a young man from the projects to be his caregiver.\\n            ',\n",
              " '\\n                    After a tragic accident, two stage magicians engage in a battle to create the ultimate illusion while sacrificing everything they have to outwit each other.\\n            ',\n",
              " '\\n                    A cynical expatriate American cafe owner struggles to decide whether or not to help his former lover and her fugitive husband escape the Nazis in French Morocco.\\n            ',\n",
              " '\\n                    A mysterious stranger with a harmonica joins forces with a notorious desperado to protect a beautiful widow from a ruthless assassin working for the railroad.\\n            ',\n",
              " '\\n                    A wheelchair-bound photographer spies on his neighbors from his apartment window and becomes convinced one of them has committed murder.\\n            ',\n",
              " \"\\n                    A filmmaker recalls his childhood when falling in love with the pictures at the cinema of his home village and forms a deep friendship with the cinema's projectionist.\\n            \",\n",
              " '\\n                    After a space merchant vessel receives an unknown transmission as a distress call, one of the crew is attacked by a mysterious life form and they soon realize that its life cycle has merely begun.\\n            ',\n",
              " '\\n                    A U.S. Army officer serving in Vietnam is tasked with assassinating a renegade Special Forces Colonel who sees himself as a god.\\n            ',\n",
              " \"\\n                    A man with short-term memory loss attempts to track down his wife's murderer.\\n            \",\n",
              " \"\\n                    In 1936, archaeologist and adventurer Indiana Jones is hired by the U.S. government to find the Ark of the Covenant before Adolf Hitler's Nazis can obtain its awesome powers.\\n            \",\n",
              " \"\\n                    Dictator Adenoid Hynkel tries to expand his empire while a poor Jewish barber tries to avoid persecution from Hynkel's regime.\\n            \",\n",
              " '\\n                    In 1984 East Berlin, an agent of the secret police, conducting surveillance on a writer and his lover, finds himself becoming increasingly absorbed by their lives.\\n            ',\n",
              " '\\n                    With the help of a German bounty-hunter, a freed slave sets out to rescue his wife from a brutal plantation-owner in Mississippi.\\n            ',\n",
              " '\\n                    After refusing to attack an enemy position, a general accuses the soldiers of cowardice and their commanding officer must defend them.\\n            ',\n",
              " '\\n                    A screenwriter develops a dangerous relationship with a faded film star determined to make a triumphant return.\\n            ',\n",
              " '\\n                    In the distant future, a small waste-collecting robot inadvertently embarks on a space journey that will ultimately decide the fate of mankind.\\n            ',\n",
              " '\\n                    A family heads to an isolated hotel for the winter where a sinister presence influences the father into violence, while his psychic son sees horrific forebodings from both past and future.\\n            ',\n",
              " '\\n                    In Gotham City, mentally troubled comedian Arthur Fleck is disregarded and mistreated by society. He then embarks on a downward spiral of revolution and bloody crime. This path brings him face-to-face with his alter-ego: the Joker.\\n            ',\n",
              " '\\n                    A veteran British barrister must defend his client in a murder trial that has surprise after surprise.\\n            ',\n",
              " '\\n                    The Avengers and their allies must be willing to sacrifice all in an attempt to defeat the powerful Thanos before his blitz of devastation and ruin puts an end to the universe.\\n            ',\n",
              " '\\n                    An insane general triggers a path to nuclear holocaust that a War Room full of politicians and generals frantically tries to stop.\\n            ',\n",
              " '\\n                    Teen Miles Morales becomes the Spider-Man of his universe, and must join with five spider-powered individuals from other dimensions to stop a threat for all realities.\\n            ',\n",
              " \"\\n                    The real life of one of America's foremost founding fathers and first Secretary of the Treasury, Alexander Hamilton. Captured live on Broadway from the Richard Rodgers Theater with the original Broadway cast.\\n            \",\n",
              " \"\\n                    On a journey to find the cure for a Tatarigami's curse, Ashitaka finds himself in the middle of a war between the forest gods and Tatara, a mining colony. In this quest he also meets San, the Mononoke Hime.\\n            \",\n",
              " '\\n                    After being kidnapped and imprisoned for fifteen years, Oh Dae-Su is released, only to find that he must find his captor in five days.\\n            ',\n",
              " '\\n                    A former Prohibition-era Jewish gangster returns to the Lower East Side of Manhattan over thirty years later, where he once again must confront the ghosts and regrets of his old life.\\n            ',\n",
              " '\\n                    Two strangers find themselves linked in a bizarre way. When a connection forms, will distance be the only thing to keep them apart?\\n            ',\n",
              " \"\\n                    Eight years after the Joker's reign of anarchy, Batman, with the help of the enigmatic Catwoman, is forced from his exile to save Gotham City from the brutal guerrilla terrorist Bane.\\n            \",\n",
              " '\\n                    Fifty-seven years after surviving an apocalyptic attack aboard her space vessel by merciless space creatures, Officer Ripley awakens from hyper-sleep and tries to warn anyone who will listen about the predators.\\n            ',\n",
              " \"\\n                    Aspiring musician Miguel, confronted with his family's ancestral ban on music, enters the Land of the Dead to find his great-great-grandfather, a legendary singer.\\n            \",\n",
              " '\\n                    The claustrophobic world of a WWII German U-boat; boredom, filth and sheer terror.\\n            ',\n",
              " '\\n                    While serving a five-year sentence for a violent crime, a 12-year-old boy sues his parents for neglect.\\n            ',\n",
              " \"\\n                    After the devastating events of Avengers: Infinity War (2018), the universe is in ruins. With the help of remaining allies, the Avengers assemble once more in order to reverse Thanos' actions and restore balance to the universe.\\n            \",\n",
              " \"\\n                    An executive of a shoe company becomes a victim of extortion when his chauffeur's son is kidnapped and held for ransom.\\n            \",\n",
              " \"\\n                    A sexually frustrated suburban father has a mid-life crisis after becoming infatuated with his daughter's best friend.\\n            \",\n",
              " \"\\n                    A cowboy doll is profoundly threatened and jealous when a new spaceman figure supplants him as top toy in a boy's room.\\n            \",\n",
              " '\\n                    Scottish warrior William Wallace leads his countrymen in a rebellion to free his homeland from the tyranny of King Edward I of England.\\n            ',\n",
              " \"\\n                    The life, success and troubles of Wolfgang Amadeus Mozart, as told by Antonio Salieri, the contemporaneous composer who was insanely jealous of Mozart's talent and claimed to have murdered him.\\n            \",\n",
              " '\\n                    Two friends are searching for their long lost companion. They revisit their college days and recall the memories of their friend who inspired them to think differently, even as the rest of the world called them \"idiots\".\\n            ',\n",
              " \"\\n                    In Nazi-occupied France during World War II, a plan to assassinate Nazi leaders by a group of Jewish U.S. soldiers coincides with a theatre owner's vengeful plans for the same.\\n            \",\n",
              " '\\n                    Will Hunting, a janitor at M.I.T., has a gift for mathematics, but needs help from a psychologist to find direction in his life.\\n            ',\n",
              " \"\\n                    After a daring mission to rescue Han Solo from Jabba the Hutt, the Rebels dispatch to Endor to destroy the second Death Star. Meanwhile, Luke struggles to help Darth Vader back from the dark side without falling into the Emperor's trap.\\n            \",\n",
              " '\\n                    When a simple jewelry heist goes horribly wrong, the surviving criminals begin to suspect that one of them is a police informant.\\n            ',\n",
              " '\\n                    After discovering a mysterious artifact buried beneath the Lunar surface, mankind sets off on a quest to find its origins with help from intelligent supercomputer H.A.L. 9000.\\n            ',\n",
              " '\\n                    When the police in a German city are unable to catch a child-murderer, other criminals join in the manhunt.\\n            ',\n",
              " \"\\n                    Following the death of publishing tycoon Charles Foster Kane, reporters scramble to uncover the meaning of his final utterance; 'Rosebud'.\\n            \",\n",
              " '\\n                    An eight-year-old boy is thought to be a lazy trouble-maker, until the new art teacher has the patience and compassion to discover the real problem behind his struggles in school.\\n            ',\n",
              " '\\n                    A former police detective juggles wrestling with his personal demons and becoming obsessed with a hauntingly beautiful woman.\\n            ',\n",
              " '\\n                    The drug-induced utopias of four Coney Island people are shattered when their addictions run deep.\\n            ',\n",
              " \"\\n                    A teacher lives a lonely life, all the while struggling over his son's custody. His life slowly gets better as he finds love and receives good news from his son, but his new luck is about to be brutally shattered by an innocent little lie.\\n            \",\n",
              " '\\n                    A silent film production company and cast make a difficult transition to sound.\\n            ',\n",
              " '\\n                    A New York City advertising executive goes on the run after being mistaken for a government agent by a group of foreign spies.\\n            ',\n",
              " '\\n                    When their relationship turns sour, a couple undergoes a medical procedure to have each other erased from their memories.\\n            ',\n",
              " \"\\n                    In post-war Italy, a working-class man's bicycle is stolen. He and his son set out to find it.\\n            \",\n",
              " '\\n                    After finding an old rifle, a young boy joins the Soviet resistance movement against ruthless German forces and experiences the horrors of World War II.\\n            ',\n",
              " '\\n                    A bureaucrat tries to find a meaning in his life after he discovers he has terminal cancer.\\n            ',\n",
              " '\\n                    The story of T.E. Lawrence, the English officer who successfully united and led the diverse, often warring, Arab tribes during World War I in order to fight the Turks.\\n            ',\n",
              " '\\n                    A man refuses all assistance from his daughter as he ages. As he tries to make sense of his changing circumstances, he begins to doubt his loved ones, his own mind and even the fabric of his reality.\\n            ',\n",
              " '\\n                    The Tramp cares for an abandoned child, but events put that relationship in jeopardy.\\n            ',\n",
              " '\\n                    A pragmatic U.S. Marine observes the dehumanizing effects the Vietnam War has on his fellow recruits from their brutal boot camp training to the bloody street fighting in Hue.\\n            ',\n",
              " '\\n                    Former wrestler Mahavir Singh Phogat and his two wrestler daughters struggle towards glory at the Commonwealth Games in the face of societal oppression.\\n            ',\n",
              " \"\\n                    In the future, a sadistic gang leader is imprisoned and volunteers for a conduct-aversion experiment, but it doesn't go as planned.\\n            \",\n",
              " '\\n                    A mentally unstable veteran works as a nighttime taxi driver in New York City, where the perceived decadence and sleaze fuels his urge for violent action by attempting to liberate a presidential campaign worker and an underage prostitute.\\n            ',\n",
              " \"\\n                    In a futuristic city sharply divided between the working class and the city planners, the son of the city's mastermind falls in love with a working-class prophet who predicts the coming of a savior to mediate their differences.\\n            \",\n",
              " '\\n                    Two grifters team up to pull off the ultimate con.\\n            ',\n",
              " '\\n                    An insurance representative lets himself be talked by a seductive housewife into a murder/insurance fraud scheme that arouses the suspicion of an insurance investigator.\\n            ',\n",
              " '\\n                    April 6th, 1917. As a regiment assembles to wage war deep in enemy territory, two soldiers are assigned to race against time and deliver a message that will stop 1,600 men from walking straight into a deadly trap.\\n            ',\n",
              " '\\n                    Amélie is an innocent and naive girl in Paris with her own sense of justice. She decides to help those around her and, along the way, discovers love.\\n            ',\n",
              " \"\\n                    A married couple are faced with a difficult decision - to improve the life of their child by moving to another country or to stay in Iran and look after a deteriorating parent who has Alzheimer's disease.\\n            \",\n",
              " '\\n                    Unscrupulous boxing promoters, violent bookmakers, a Russian gangster, incompetent amateur robbers and supposedly Jewish jewelers fight to track down a priceless stolen diamond.\\n            ',\n",
              " '\\n                    A man tries to rise in his company by letting its executives use his apartment for trysts, but complications and a romance of his own ensue.\\n            ',\n",
              " '\\n                    In 1980 Miami, a determined Cuban immigrant takes over a drug cartel and succumbs to greed.\\n            ',\n",
              " \"\\n                    Twins journey to the Middle East to discover their family history and fulfill their mother's last wishes.\\n            \",\n",
              " \"\\n                    The toys are mistakenly delivered to a day-care center instead of the attic right before Andy leaves for college, and it's up to Woody to convince the other toys that they weren't abandoned and to return home.\\n            \",\n",
              " '\\n                    Atticus Finch, a lawyer in the Depression-era South, defends a black man against an undeserved rape charge, and his children against prejudice.\\n            ',\n",
              " '\\n                    Two bounty hunters with the same intentions team up to track down a Western outlaw.\\n            ',\n",
              " '\\n                    78-year-old Carl Fredricksen travels to Paradise Falls in his house equipped with balloons, inadvertently taking a young stowaway.\\n            ',\n",
              " '\\n                    In 1938, after his father Professor Henry Jones, Sr. goes missing while pursuing the Holy Grail, Professor Henry \"Indiana\" Jones, Jr. finds himself up against Adolf Hitler\\'s Nazis again to stop them from obtaining its powers.\\n            ',\n",
              " '\\n                    As corruption grows in 1950s Los Angeles, three policemen - one strait-laced, one brutal, and one sleazy - investigate a series of murders with their own brand of justice.\\n            ',\n",
              " \"\\n                    The rape of a bride and the murder of her samurai husband are recalled from the perspectives of a bandit, the bride, the samurai's ghost and a woodcutter.\\n            \",\n",
              " '\\n                    A group of professional bank robbers start to feel the heat from police when they unknowingly leave a clue at their latest heist.\\n            ',\n",
              " '\\n                    A crafty ronin comes to a town divided by two criminal gangs and decides to play them against each other to free the town.\\n            ',\n",
              " '\\n                    An NYPD officer tries to save his wife and several others taken hostage by German terrorists during a Christmas party at the Nakatomi Plaza in Los Angeles.\\n            ',\n",
              " '\\n                    In Medieval Japan, an elderly warlord retires, handing over his empire to his three sons. However, he vastly underestimates how the new-found power will corrupt them and cause them to turn on each other...and him.\\n            ',\n",
              " '\\n                    King Arthur and his Knights of the Round Table embark on a surreal, low-budget search for the Holy Grail, encountering many, very silly obstacles.\\n            ',\n",
              " \"\\nTraudl Junge, the final secretary for Adolf Hitler, tells of the Nazi dictator's final days in his Berlin bunker at the end of WWII.\\n            \",\n",
              " '\\n                    A working-class Italian-American bouncer becomes the driver of an African-American classical pianist on a tour of venues through the 1960s American South.\\n            ',\n",
              " '\\n                    After training with his mentor, Batman begins his fight to free crime-ridden Gotham City from corruption.\\n            ',\n",
              " '\\n                    After two male musicians witness a mob hit, they flee the state in an all-female band disguised as women, but further complications set in.\\n            ',\n",
              " '\\n                    A seemingly timid but secretly ruthless ingénue insinuates herself into the lives of an aging Broadway star and her circle of theater friends.\\n            ',\n",
              " '\\n                    Retired Old West gunslinger William Munny reluctantly takes on one last job, with the help of his old partner Ned Logan and a young man, The \"Schofield Kid.\"\\n            ',\n",
              " '\\n                    After a boy loses his sister\\'s pair of shoes, he goes on a series of adventures in order to find them. When he can\\'t, he tries a new way to \"win\" a new pair.\\n            ',\n",
              " '\\n                    When an unconfident young woman is cursed with an old body by a spiteful witch, her only chance of breaking the spell lies with a self-indulgent yet insecure young wizard and his companions in his legged, walking castle.\\n            ',\n",
              " '\\n                    Allied prisoners of war plan for several hundred of their number to escape from a German camp during World War II.\\n            ',\n",
              " '\\n                    Based on the true story of Jordan Belfort, from his rise to a wealthy stock-broker living the high life to his fall involving crime, corruption and the federal government.\\n            ',\n",
              " '\\n                    In 1948, an American court in occupied Germany tries four Nazis judged for war crimes.\\n            ',\n",
              " '\\n                    A tale of greed, deception, money, power, and murder occur between two best friends: a mafia enforcer and a casino executive compete against each other over a gambling empire, and over a fast-living and fast-loving socialite.\\n            ',\n",
              " '\\n                    In the Falangist Spain of 1944, the bookish young stepdaughter of a sadistic army officer escapes into an eerie but captivating fantasy world.\\n            ',\n",
              " '\\n                    Two Americans searching for work in Mexico convince an old prospector to help them mine for gold in the Sierra Madre Mountains.\\n            ',\n",
              " '\\n                    After John Nash, a brilliant but asocial mathematician, accepts secret work in cryptography, his life takes a turn for the nightmarish.\\n            ',\n",
              " '\\n                    A story of family, religion, hatred, oil and madness, focusing on a turn-of-the-century prospector in the early days of the business.\\n            ',\n",
              " '\\n                    A retired legal counselor writes a novel hoping to find closure for one of his past unresolved homicide cases and for his unreciprocated love with his superior - both of which still haunt him decades later.\\n            ',\n",
              " '\\n                    The life of boxer Jake LaMotta, whose violence and temper that led him to the top in the ring destroyed his life outside of it.\\n            ',\n",
              " '\\n                    When two girls move to the country to be near their ailing mother, they have adventures with the wondrous forest spirits who live nearby.\\n            ',\n",
              " '\\n                    A private detective hired to expose an adulterer finds himself caught up in a web of deceit, corruption, and murder.\\n            ',\n",
              " '\\n                    Eddy persuades his three pals to pool money for a vital poker game against a powerful local mobster, Hatchet Harry. Eddy loses, after which Harry gives him a week to pay back 500,000 pounds.\\n            ',\n",
              " '\\n                    A prospector goes to the Klondike in search of gold and finds it and more.\\n            ',\n",
              " \"\\n                    A mother personally challenges the local authorities to solve her daughter's murder when they fail to catch the culprit.\\n            \",\n",
              " \"\\n                    A former tennis player tries to arrange his wife's murder after learning of her affair.\\n            \",\n",
              " '\\n                    Violence and mayhem ensue after a hunter stumbles upon a drug deal gone wrong and more than two million dollars in cash near the Rio Grande.\\n            ',\n",
              " '\\n                    A man seeks answers about life, death, and the existence of God as he plays chess against the Grim Reaper during the Black Plague.\\n            ',\n",
              " '\\n                    In 1954, a U.S. Marshal investigates the disappearance of a murderer who escaped from a hospital for the criminally insane.\\n            ',\n",
              " '\\n                    A Victorian surgeon rescues a heavily disfigured man who is mistreated while scraping a living as a side-show freak. Behind his monstrous façade, there is revealed a person of kindness, intelligence and sophistication.\\n            ',\n",
              " '\\n                    A research team in Antarctica is hunted by a shape-shifting alien that assumes the appearance of its victims.\\n            ',\n",
              " '\\n                    A boy who communicates with spirits seeks the help of a disheartened child psychologist.\\n            ',\n",
              " '\\n                    After young Riley is uprooted from her Midwest life and moved to San Francisco, her emotions - Joy, Fear, Anger, Disgust and Sadness - conflict on how best to navigate a new city, house, and school.\\n            ',\n",
              " '\\n                    In a future British tyranny, a shadowy freedom fighter, known only by the alias of \"V\", plots to overthrow it with the help of a young woman.\\n            ',\n",
              " '\\n                    Pulp novelist Holly Martins travels to shadowy, postwar Vienna, only to find himself investigating the mysterious death of an old friend, Harry Lime.\\n            ',\n",
              " \"\\n                    A simple act of kindness always sparks another, even in a frozen, faraway place. When Smeerensburg's new postman, Jesper, befriends toymaker Klaus, their gifts melt an age-old feud and deliver a sleigh full of holiday traditions.\\n            \",\n",
              " '\\n                    A blade runner must pursue and terminate four replicants who stole a ship in space, and have returned to Earth to find their creator.\\n            ',\n",
              " '\\n                    After living a life marked by coldness, an aging professor is forced to confront the emptiness of his existence.\\n            ',\n",
              " '\\n                    British POWs are forced to build a railway bridge across the river Kwai for their Japanese captors, not knowing that the allied forces are planning to destroy it.\\n            ',\n",
              " '\\n                    The family of a left-wing journalist is torn apart after the military coup of Turkey in 1980.\\n            ',\n",
              " '\\n                    Renton, deeply immersed in the Edinburgh drug scene, tries to clean up and get out, despite the allure of the drugs and influence of friends.\\n            ',\n",
              " \"\\n                    The youngest son of an alcoholic former boxer returns home, where he's trained by his father for competition in a mixed martial arts tournament - a path that puts the fighter on a collision course with his estranged, older brother.\\n            \",\n",
              " \"\\n                    A pragmatic paleontologist visiting an almost complete theme park is tasked with protecting a couple of kids after a power failure causes the park's cloned dinosaurs to run loose.\\n            \",\n",
              " '\\n                    An insurance salesman discovers his whole life is actually a reality TV show.\\n            ',\n",
              " \"\\n                    Jerry Lundegaard's inept crime falls apart due to his and his henchmen's bungling and the persistent police work of the quite pregnant Marge Gunderson.\\n            \",\n",
              " '\\n                    After his son is captured in the Great Barrier Reef and taken to Sydney, a timid clownfish sets out on a journey to bring him home.\\n            ',\n",
              " '\\n                    A manipulative woman and a roguish man conduct a turbulent romance during the American Civil War and Reconstruction periods.\\n            ',\n",
              " '\\n                    An old couple visit their children and grandchildren in the city, but receive little attention.\\n            ',\n",
              " '\\n                    In a small Korean province in 1986, two detectives struggle with the case of multiple young women being found raped and murdered by an unknown culprit.\\n            ',\n",
              " '\\n                    After awakening from a four-year coma, a former assassin wreaks vengeance on the team of assassins who betrayed her.\\n            ',\n",
              " '\\n                    An ex-prize fighter turned longshoreman struggles to stand up to his corrupt union bosses.\\n            ',\n",
              " '\\n                    A guide leads two men through an area known as the Zone to find a room that grants wishes.\\n            ',\n",
              " \"\\n                    When Union spies steal an engineer's beloved locomotive, he pursues it single-handedly and straight through enemy lines.\\n            \",\n",
              " '\\n                    An in-depth examination of the ways in which the U.S. Vietnam War impacts and disrupts the lives of people in a small industrial town in Pennsylvania.\\n            ',\n",
              " '\\n                    Six short stories that explore the extremities of human behavior involving people in distress.\\n            ',\n",
              " \"\\n                    Disgruntled Korean War veteran Walt Kowalski sets out to reform his neighbor, Thao Lor, a Hmong teenager who tried to steal Kowalski's prized possession: a 1972 Gran Torino.\\n            \",\n",
              " \"\\n                    A film projectionist longs to be a detective, and puts his meagre skills to work when he is framed by a rival for stealing his girlfriend's father's pocketwatch.\\n            \",\n",
              " '\\n                    Held captive for 7 years in an enclosed space, a woman and her young son finally gain their freedom, allowing the boy to experience the outside world for the first time.\\n            ',\n",
              " \"\\n                    A writer encounters the owner of an aging high-class hotel, who tells him of his early years serving as a lobby boy in the hotel's glorious years under an exceptional concierge.\\n            \",\n",
              " '\\n                    A tale of friendship between two unlikely pen pals: Mary, a lonely, eight-year-old girl living in the suburbs of Melbourne, and Max, a forty-four-year old, severely obese man living in New York.\\n            ',\n",
              " '\\n                    A young man and woman meet on a train in Europe, and wind up spending one evening together in Vienna. Unfortunately, both know that this will probably be their only night together.\\n            ',\n",
              " '\\n                    A nurse is put in charge of a mute actress and finds that their personae are melding together.\\n            ',\n",
              " \"\\n                    A man's coerced confession to an I.R.A. bombing he did not commit results in the imprisonment of his father as well. An English lawyer fights to free them.\\n            \",\n",
              " \"\\n                    A naive man is appointed to fill a vacancy in the United States Senate. His plans promptly collide with political corruption, but he doesn't back down.\\n            \",\n",
              " \"\\n                    When Keller Dover's daughter and her friend go missing, he takes matters into his own hands as the police pursue multiple leads and the pressure mounts.\\n            \",\n",
              " \"\\n                    During the Nazi occupation of Poland, an acting troupe becomes embroiled in a Polish soldier's efforts to track down a German spy.\\n            \",\n",
              " \"\\n                    With his wife's disappearance having become the focus of an intense media circus, a man sees the spotlight turned on him when it's suspected that he may not be innocent.\\n            \",\n",
              " '\\n                    Barely 21 yet, Frank is a skilled forger who has passed as a doctor, lawyer and pilot. FBI agent Carl becomes obsessed with tracking down the con man, who only revels in the pursuit.\\n            ',\n",
              " '\\n                    World War II American Army Medic Desmond T. Doss, who served during the Battle of Okinawa, refuses to kill people, and becomes the first man in American history to receive the Medal of Honor without firing a shot.\\n            ',\n",
              " '\\n                    Jeff \"The Dude\" Lebowski, mistaken for a millionaire of the same name, seeks restitution for his ruined rug and enlists his bowling buddies to help get it.\\n            ',\n",
              " \"\\n                    An Irish rogue wins the heart of a rich widow and assumes her dead husband's aristocratic position in 18th-century England.\\n            \",\n",
              " '\\n                    In the antebellum United States, Solomon Northup, a free black man from upstate New York, is abducted and sold into slavery.\\n            ',\n",
              " '\\n                    A series of mysterious events change the life of a blind pianist, who must now report a crime that he should technically know nothing of.\\n            ',\n",
              " '\\n                    American car designer Carroll Shelby and driver Ken Miles battle corporate interference and the laws of physics to build a revolutionary race car for Ford in order to defeat Ferrari at the 24 Hours of Le Mans in 1966.\\n            ',\n",
              " \"\\n                    In 1431, Jeanne d'Arc is placed on trial on charges of heresy. The ecclesiastical jurists attempt to force Jeanne to recant her claims of holy visions.\\n            \",\n",
              " '\\n                    A hapless young Viking who aspires to hunt dragons becomes the unlikely friend of a young dragon himself, and learns there may be more to the creatures than he assumed.\\n            ',\n",
              " '\\n                    In a post-apocalyptic wasteland, a woman rebels against a tyrannical ruler in search for her homeland with the aid of a group of female prisoners, a psychotic worshiper, and a drifter named Max.\\n            ',\n",
              " '\\n                    In a decrepit South American village, four men are hired to transport an urgent nitroglycerine shipment without the equipment that would make it safe.\\n            ',\n",
              " '\\n                    A determined woman works with a hardened boxing trainer to become a professional.\\n            ',\n",
              " '\\n                    After a Jewish prince is betrayed and sent into slavery by a Roman friend, he regains his freedom and comes back for revenge.\\n            ',\n",
              " \"\\n                    A television network cynically exploits a deranged former anchor's ravings and revelations about the news media for its own profit.\\n            \",\n",
              " \"\\n                    A married daughter who longs for her mother's love is visited by the latter, a successful concert pianist.\\n            \",\n",
              " '\\n                    Maverick teacher John Keating uses poetry to embolden his boarding school students to new heights of self-expression.\\n            ',\n",
              " '\\n                    After the death of one of his friends, a writer recounts a childhood journey with his friends to find the body of a missing boy.\\n            ',\n",
              " \"\\n                    Harry, Ron, and Hermione search for Voldemort's remaining Horcruxes in their effort to destroy the Dark Lord as the final battle rages on at Hogwarts.\\n            \",\n",
              " '\\n                    A laid back Southern man is sentenced to two years in a rural prison, but refuses to conform.\\n            ',\n",
              " '\\n                    A young boy, left without attention, delves into a life of petty crime.\\n            ',\n",
              " '\\n                    Baran the Bandit, released from prison after 35 years, searches for vengeance and his lover.\\n            ',\n",
              " '\\n                    A woman is hired as a handmaiden to a Japanese heiress, but secretly she is involved in a plot to defraud her.\\n            ',\n",
              " '\\n                    In a future where mutants are nearly extinct, an elderly and weary Logan leads a quiet life. But when Laura, a mutant child pursued by scientists, comes to him for help, he must get her to safety.\\n            ',\n",
              " '\\n                    Chris Taylor, a neophyte recruit in Vietnam, finds himself caught in a battle of wills between two sergeants, one good and the other evil. A shrewd examination of the brutality of war and the duality of man in conflict.\\n            ',\n",
              " '\\n                    A college professor bonds with an abandoned dog he takes into his home.\\n            ',\n",
              " '\\n                    Born on the original Christmas in the stable next door to Jesus Christ, Brian of Nazareth spends his life being mistaken for a messiah.\\n            ',\n",
              " '\\n                    24 hours in the lives of three young men in the French suburbs the day after a violent riot.\\n            ',\n",
              " '\\n                    The true story of how the Boston Globe uncovered the massive scandal of child molestation and cover-up within the local Catholic Archdiocese, shaking the entire Catholic Church to its core.\\n            ',\n",
              " '\\nPaul Rusesabagina, a hotel manager, houses over a thousand Tutsi refugees during their struggle against the Hutu militia in Rwanda, Africa.\\n            ',\n",
              " '\\n                    After graduating from Emory University, top student and athlete Christopher McCandless abandons his possessions, gives his entire $24,000 savings account to charity and hitchhikes to Alaska to live in the wilderness. Along the way, Christopher encounters a series of characters that shape his life.\\n            ',\n",
              " '\\n                    The merciless 1970s rivalry between Formula One rivals James Hunt and Niki Lauda.\\n            ',\n",
              " \"\\n                    A self-conscious woman juggles adjusting to her new role as an aristocrat's wife and avoiding being intimidated by his first wife's spectral presence.\\n            \",\n",
              " '\\n                    The life, times and afflictions of the fifteenth-century Russian iconographer St. Andrei Rublev.\\n            ',\n",
              " '\\n                    In order to power the city, monsters have to scare children so that they scream. However, the children are toxic to the monsters, and after a child gets through, two monsters realize things may not be what they think.\\n            ',\n",
              " \"\\n                    A horrific car accident connects three stories, each involving characters dealing with loss, regret, and life's harsh realities, all in the name of love.\\n            \",\n",
              " '\\n                    A small-time boxer gets a supremely rare chance to fight a heavyweight champion in a bout in which he strives to go the distance for his self-respect.\\n            ',\n",
              " '\\n                    Warrior and pacifist Princess Nausicaä desperately struggles to prevent two warring nations from destroying themselves and their dying planet.\\n            ',\n",
              " '\\n                    After landing the gig of a lifetime, a New York jazz pianist suddenly finds himself trapped in a strange land between Earth and the afterlife.\\n            ',\n",
              " '\\n                    A sub-inspector sets out in pursuit of a mysterious serial killer who targets teen school girls and murders them brutally.\\n            ',\n",
              " '\\n                    Two neighbors form a strong bond after both suspect extramarital activities of their spouses. However, they agree to keep their bond platonic so as not to commit similar wrongs.\\n            ',\n",
              " '\\n                    A renegade reporter and a crazy young heiress meet on a bus heading for New York, and end up stuck with each other when the bus leaves them behind at one of the stops.\\n            ',\n",
              " '\\n                    Four men plan a technically perfect crime, but the human element intervenes...\\n            ',\n",
              " '\\n                    In the 1950s, fear and violence escalate as the people of Algiers fight for independence from the French government.\\n            ',\n",
              " '\\n                    A young man is ostracized by his classmates after he bullies a deaf girl to the point where she moves away. Years later, he sets off on a path for redemption.\\n            ',\n",
              " \"\\n                    Nine years after Jesse and Celine first met, they encounter each other again on the French leg of Jesse's book tour.\\n            \",\n",
              " '\\n                    A clash between Sultan and Shahid Khan leads to the expulsion of Khan from Wasseypur, and ignites a deadly blood feud spanning three generations.\\n            ',\n",
              " '\\n                    A sophisticated urban woman seduces a farmer in the hopes that he will murder his neglected wife and join her in the city, but he soon finds himself rekindling his romance with the latter when she discovers their scheme.\\n            ',\n",
              " '\\n                    Two young Swedish children experience the many comedies and tragedies of their family, the Ekdahls.\\n            ',\n",
              " \"\\n                    While home sick in bed, a young boy's grandfather reads him the story of a farmboy-turned-pirate who encounters numerous obstacles, enemies and allies in his quest to be reunited with his true love.\\n            \",\n",
              " \"\\n                    A model discovers a retired judge is keen on invading people's privacy.\\n            \",\n",
              " '\\n                    The story of a terminally ill man who wishes to live life to the fullest before the inevitable occurs, as told by his best friend.\\n            ',\n",
              " '\\n                    In this luminous tale set in the area around Sarajevo and in Italy, Perhan, an engaging young Romany (gypsy) with telekinetic powers, is seduced by the quick-cash world of petty crime, which threatens to destroy him and those he loves.\\n            ',\n",
              " '\\n                    A waifish prostitute wanders the streets of Rome looking for true love but finds only heartbreak.\\n            ',\n",
              " \"\\n                    A war-hardened general, egged on by his ambitious wife, works to fulfill a prophecy that he would become lord of Spider's Web Castle.\\n            \",\n",
              " '\\n                    A senator returns to a western town for the funeral of an old friend and tells the story of his origins.\\n            ']"
            ]
          },
          "metadata": {
            "tags": []
          },
          "execution_count": 162
        }
      ]
    },
    {
      "cell_type": "code",
      "metadata": {
        "colab": {
          "base_uri": "https://localhost:8080/"
        },
        "id": "EyH4t_3JhBFQ",
        "outputId": "8ef70631-86fd-4b85-9534-c01cb4704b57"
      },
      "source": [
        "genre\n",
        "\n",
        "\n",
        "\n",
        "\n",
        "\n",
        "\n"
      ],
      "execution_count": null,
      "outputs": [
        {
          "output_type": "execute_result",
          "data": {
            "text/plain": [
              "[['Drama'],\n",
              " ['Crime', 'Drama'],\n",
              " ['Crime', 'Drama'],\n",
              " ['Action', 'Crime', 'Drama'],\n",
              " ['Crime', 'Drama'],\n",
              " ['Biography', 'Drama', 'History'],\n",
              " ['Action', 'Adventure', 'Drama'],\n",
              " ['Crime', 'Drama'],\n",
              " ['Western'],\n",
              " ['Action', 'Adventure', 'Drama'],\n",
              " ['Drama'],\n",
              " ['Drama', 'Romance'],\n",
              " ['Action', 'Adventure', 'Sci-Fi'],\n",
              " ['Action', 'Adventure', 'Drama'],\n",
              " ['Action', 'Adventure', 'Fantasy'],\n",
              " ['Action', 'Sci-Fi'],\n",
              " ['Biography', 'Crime', 'Drama'],\n",
              " ['Drama'],\n",
              " ['Action', 'Adventure', 'Drama'],\n",
              " ['Crime', 'Drama', 'Mystery'],\n",
              " ['Crime', 'Drama', 'Thriller'],\n",
              " ['Crime', 'Drama'],\n",
              " ['Comedy', 'Drama', 'Romance'],\n",
              " ['Drama', 'Family', 'Fantasy'],\n",
              " ['Action', 'Adventure', 'Fantasy'],\n",
              " ['Drama', 'War'],\n",
              " ['Animation', 'Adventure', 'Family'],\n",
              " ['Crime', 'Drama', 'Fantasy'],\n",
              " ['Adventure', 'Drama', 'Sci-Fi'],\n",
              " ['Comedy', 'Drama', 'Thriller'],\n",
              " ['Action', 'Crime', 'Drama'],\n",
              " ['Action', 'Drama', 'Mystery'],\n",
              " ['Crime', 'Mystery', 'Thriller'],\n",
              " ['Biography', 'Drama', 'Music'],\n",
              " ['Adventure', 'Comedy', 'Sci-Fi'],\n",
              " ['Action', 'Sci-Fi'],\n",
              " ['Comedy', 'Drama', 'Family'],\n",
              " ['Horror', 'Mystery', 'Thriller'],\n",
              " ['Animation', 'Adventure', 'Drama'],\n",
              " ['Drama'],\n",
              " ['Comedy', 'Drama', 'Romance'],\n",
              " ['Action', 'Adventure', 'Drama'],\n",
              " ['Crime', 'Drama', 'Thriller'],\n",
              " ['Drama', 'Music'],\n",
              " ['Animation', 'Drama', 'War'],\n",
              " ['Biography', 'Comedy', 'Drama'],\n",
              " ['Drama', 'Mystery', 'Sci-Fi'],\n",
              " ['Drama', 'Romance', 'War'],\n",
              " ['Western'],\n",
              " ['Mystery', 'Thriller'],\n",
              " ['Drama', 'Romance'],\n",
              " ['Horror', 'Sci-Fi'],\n",
              " ['Drama', 'Mystery', 'War'],\n",
              " ['Mystery', 'Thriller'],\n",
              " ['Action', 'Adventure'],\n",
              " ['Comedy', 'Drama', 'War'],\n",
              " ['Drama', 'Mystery', 'Thriller'],\n",
              " ['Drama', 'Western'],\n",
              " ['Drama', 'War'],\n",
              " ['Drama', 'Film-Noir'],\n",
              " ['Animation', 'Adventure', 'Family'],\n",
              " ['Drama', 'Horror'],\n",
              " ['Crime', 'Drama', 'Thriller'],\n",
              " ['Crime', 'Drama', 'Mystery'],\n",
              " ['Action', 'Adventure', 'Sci-Fi'],\n",
              " ['Comedy'],\n",
              " ['Animation', 'Action', 'Adventure'],\n",
              " ['Biography', 'Drama', 'History'],\n",
              " ['Animation', 'Action', 'Adventure'],\n",
              " ['Action', 'Drama', 'Mystery'],\n",
              " ['Crime', 'Drama'],\n",
              " ['Animation', 'Drama', 'Fantasy'],\n",
              " ['Action', 'Adventure'],\n",
              " ['Action', 'Adventure', 'Sci-Fi'],\n",
              " ['Animation', 'Adventure', 'Family'],\n",
              " ['Adventure', 'Drama', 'Thriller'],\n",
              " ['Drama'],\n",
              " ['Action', 'Adventure', 'Drama'],\n",
              " ['Crime', 'Drama', 'Mystery'],\n",
              " ['Drama'],\n",
              " ['Animation', 'Adventure', 'Comedy'],\n",
              " ['Biography', 'Drama', 'History'],\n",
              " ['Biography', 'Drama', 'History'],\n",
              " ['Comedy', 'Drama'],\n",
              " ['Adventure', 'Drama', 'War'],\n",
              " ['Drama', 'Romance'],\n",
              " ['Action', 'Adventure', 'Fantasy'],\n",
              " ['Crime', 'Drama', 'Thriller'],\n",
              " ['Adventure', 'Sci-Fi'],\n",
              " ['Crime', 'Mystery', 'Thriller'],\n",
              " ['Drama', 'Mystery'],\n",
              " ['Drama', 'Family'],\n",
              " ['Mystery', 'Romance', 'Thriller'],\n",
              " ['Drama'],\n",
              " ['Drama'],\n",
              " ['Comedy', 'Musical', 'Romance'],\n",
              " ['Adventure', 'Mystery', 'Thriller'],\n",
              " ['Drama', 'Romance', 'Sci-Fi'],\n",
              " ['Drama'],\n",
              " ['Drama', 'Thriller', 'War'],\n",
              " ['Drama'],\n",
              " ['Adventure', 'Biography', 'Drama'],\n",
              " ['Drama'],\n",
              " ['Comedy', 'Drama', 'Family'],\n",
              " ['Drama', 'War'],\n",
              " ['Action', 'Biography', 'Drama'],\n",
              " ['Crime', 'Drama', 'Sci-Fi'],\n",
              " ['Crime', 'Drama'],\n",
              " ['Drama', 'Sci-Fi'],\n",
              " ['Comedy', 'Crime', 'Drama'],\n",
              " ['Crime', 'Drama', 'Film-Noir'],\n",
              " ['Drama', 'Thriller', 'War'],\n",
              " ['Comedy', 'Romance'],\n",
              " ['Drama'],\n",
              " ['Comedy', 'Crime'],\n",
              " ['Comedy', 'Drama', 'Romance'],\n",
              " ['Crime', 'Drama'],\n",
              " ['Drama', 'Mystery', 'War'],\n",
              " ['Animation', 'Adventure', 'Comedy'],\n",
              " ['Crime', 'Drama'],\n",
              " ['Western'],\n",
              " ['Animation', 'Adventure', 'Comedy'],\n",
              " ['Action', 'Adventure'],\n",
              " ['Crime', 'Drama', 'Mystery'],\n",
              " ['Crime', 'Drama', 'Mystery'],\n",
              " ['Crime', 'Drama', 'Thriller'],\n",
              " ['Action', 'Drama', 'Thriller'],\n",
              " ['Action', 'Thriller'],\n",
              " ['Action', 'Drama', 'War'],\n",
              " ['Adventure', 'Comedy', 'Fantasy'],\n",
              " ['Biography', 'Drama', 'History'],\n",
              " ['Biography', 'Comedy', 'Drama'],\n",
              " ['Action', 'Adventure'],\n",
              " ['Comedy', 'Music', 'Romance'],\n",
              " ['Drama'],\n",
              " ['Drama', 'Western'],\n",
              " ['Drama', 'Family', 'Sport'],\n",
              " ['Animation', 'Adventure', 'Family'],\n",
              " ['Adventure', 'Drama', 'History'],\n",
              " ['Biography', 'Crime', 'Drama'],\n",
              " ['Drama', 'War'],\n",
              " ['Crime', 'Drama'],\n",
              " ['Drama', 'Fantasy', 'War'],\n",
              " ['Adventure', 'Drama', 'Western'],\n",
              " ['Biography', 'Drama'],\n",
              " ['Drama'],\n",
              " ['Drama', 'Mystery', 'Romance'],\n",
              " ['Biography', 'Drama', 'Sport'],\n",
              " ['Animation', 'Family', 'Fantasy'],\n",
              " ['Drama', 'Mystery', 'Thriller'],\n",
              " ['Action', 'Comedy', 'Crime'],\n",
              " ['Adventure', 'Comedy', 'Drama'],\n",
              " ['Comedy', 'Crime', 'Drama'],\n",
              " ['Crime', 'Thriller'],\n",
              " ['Crime', 'Drama', 'Thriller'],\n",
              " ['Drama', 'Fantasy', 'History'],\n",
              " ['Mystery', 'Thriller'],\n",
              " ['Biography', 'Drama'],\n",
              " ['Horror', 'Mystery', 'Sci-Fi'],\n",
              " ['Drama', 'Mystery', 'Thriller'],\n",
              " ['Animation', 'Adventure', 'Comedy'],\n",
              " ['Action', 'Drama', 'Sci-Fi'],\n",
              " ['Film-Noir', 'Mystery', 'Thriller'],\n",
              " ['Animation', 'Adventure', 'Comedy'],\n",
              " ['Action', 'Sci-Fi', 'Thriller'],\n",
              " ['Drama', 'Romance'],\n",
              " ['Adventure', 'Drama', 'War'],\n",
              " ['Drama', 'Family'],\n",
              " ['Drama'],\n",
              " ['Action', 'Drama', 'Sport'],\n",
              " ['Action', 'Adventure', 'Sci-Fi'],\n",
              " ['Comedy', 'Drama'],\n",
              " ['Crime', 'Drama', 'Thriller'],\n",
              " ['Animation', 'Adventure', 'Comedy'],\n",
              " ['Drama', 'History', 'Romance'],\n",
              " ['Drama'],\n",
              " ['Crime', 'Drama', 'Mystery'],\n",
              " ['Action', 'Crime', 'Drama'],\n",
              " ['Crime', 'Drama', 'Thriller'],\n",
              " ['Drama', 'Sci-Fi'],\n",
              " ['Action', 'Adventure', 'Comedy'],\n",
              " ['Drama', 'War'],\n",
              " ['Comedy', 'Drama', 'Thriller'],\n",
              " ['Drama'],\n",
              " ['Action', 'Comedy', 'Romance'],\n",
              " ['Drama', 'Thriller'],\n",
              " ['Adventure', 'Comedy', 'Crime'],\n",
              " ['Animation', 'Comedy', 'Drama'],\n",
              " ['Drama', 'Romance'],\n",
              " ['Drama', 'Thriller'],\n",
              " ['Biography', 'Crime', 'Drama'],\n",
              " ['Comedy', 'Drama'],\n",
              " ['Crime', 'Drama', 'Mystery'],\n",
              " ['Comedy', 'Romance', 'War'],\n",
              " ['Drama', 'Mystery', 'Thriller'],\n",
              " ['Biography', 'Crime', 'Drama'],\n",
              " ['Biography', 'Drama', 'History'],\n",
              " ['Comedy', 'Crime', 'Sport'],\n",
              " ['Adventure', 'Drama', 'History'],\n",
              " ['Biography', 'Drama', 'History'],\n",
              " ['Crime', 'Drama', 'Music'],\n",
              " ['Action', 'Biography', 'Drama'],\n",
              " ['Biography', 'Drama', 'History'],\n",
              " ['Animation', 'Action', 'Adventure'],\n",
              " ['Action', 'Adventure', 'Sci-Fi'],\n",
              " ['Adventure', 'Drama', 'Thriller'],\n",
              " ['Drama', 'Sport'],\n",
              " ['Adventure', 'Drama', 'History'],\n",
              " ['Drama'],\n",
              " ['Drama', 'Music'],\n",
              " ['Comedy', 'Drama'],\n",
              " ['Adventure', 'Drama'],\n",
              " ['Adventure', 'Drama', 'Fantasy'],\n",
              " ['Crime', 'Drama'],\n",
              " ['Crime', 'Drama'],\n",
              " ['Crime', 'Drama', 'Thriller'],\n",
              " ['Drama', 'Romance', 'Thriller'],\n",
              " ['Action', 'Drama', 'Sci-Fi'],\n",
              " ['Drama', 'War'],\n",
              " ['Biography', 'Drama', 'Family'],\n",
              " ['Comedy'],\n",
              " ['Crime', 'Drama'],\n",
              " ['Biography', 'Crime', 'Drama'],\n",
              " ['Biography', 'Drama', 'History'],\n",
              " ['Adventure', 'Biography', 'Drama'],\n",
              " ['Action', 'Biography', 'Drama'],\n",
              " ['Drama', 'Mystery', 'Romance'],\n",
              " ['Biography', 'Drama', 'History'],\n",
              " ['Animation', 'Adventure', 'Comedy'],\n",
              " ['Drama', 'Thriller'],\n",
              " ['Drama', 'Sport'],\n",
              " ['Animation', 'Adventure', 'Fantasy'],\n",
              " ['Animation', 'Adventure', 'Comedy'],\n",
              " ['Action', 'Crime', 'Thriller'],\n",
              " ['Drama', 'Romance'],\n",
              " ['Comedy', 'Romance'],\n",
              " ['Crime', 'Drama', 'Thriller'],\n",
              " ['Drama', 'War'],\n",
              " ['Animation', 'Drama', 'Family'],\n",
              " ['Drama', 'Romance'],\n",
              " ['Action', 'Comedy', 'Crime'],\n",
              " ['Drama', 'Romance'],\n",
              " ['Drama'],\n",
              " ['Adventure', 'Family', 'Fantasy'],\n",
              " ['Drama', 'Mystery', 'Romance'],\n",
              " ['Drama', 'Musical'],\n",
              " ['Comedy', 'Crime', 'Drama'],\n",
              " ['Drama'],\n",
              " ['Drama', 'History'],\n",
              " ['Drama', 'Western']]"
            ]
          },
          "metadata": {
            "tags": []
          },
          "execution_count": 163
        }
      ]
    },
    {
      "cell_type": "code",
      "metadata": {
        "id": "T3TEMKq4irxw"
      },
      "source": [
        "import pandas as pd\n",
        "df=pd.DataFrame(list(zip(title,genre,plot)),columns=[\"title\",\"genre\",\"plot\"])"
      ],
      "execution_count": null,
      "outputs": []
    },
    {
      "cell_type": "code",
      "metadata": {
        "colab": {
          "base_uri": "https://localhost:8080/",
          "height": 404
        },
        "id": "m7hEGpzFsHqG",
        "outputId": "16ac8bb3-76e6-4334-89f1-e94fcae69c8e"
      },
      "source": [
        "df"
      ],
      "execution_count": null,
      "outputs": [
        {
          "output_type": "execute_result",
          "data": {
            "text/html": [
              "<div>\n",
              "<style scoped>\n",
              "    .dataframe tbody tr th:only-of-type {\n",
              "        vertical-align: middle;\n",
              "    }\n",
              "\n",
              "    .dataframe tbody tr th {\n",
              "        vertical-align: top;\n",
              "    }\n",
              "\n",
              "    .dataframe thead th {\n",
              "        text-align: right;\n",
              "    }\n",
              "</style>\n",
              "<table border=\"1\" class=\"dataframe\">\n",
              "  <thead>\n",
              "    <tr style=\"text-align: right;\">\n",
              "      <th></th>\n",
              "      <th>title</th>\n",
              "      <th>genre</th>\n",
              "      <th>plot</th>\n",
              "    </tr>\n",
              "  </thead>\n",
              "  <tbody>\n",
              "    <tr>\n",
              "      <th>0</th>\n",
              "      <td>The Shawshank Redemption</td>\n",
              "      <td>[Drama]</td>\n",
              "      <td>\\n                    Two imprisoned men bond ...</td>\n",
              "    </tr>\n",
              "    <tr>\n",
              "      <th>1</th>\n",
              "      <td>The Godfather</td>\n",
              "      <td>[Crime, Drama]</td>\n",
              "      <td>\\n                    An organized crime dynas...</td>\n",
              "    </tr>\n",
              "    <tr>\n",
              "      <th>2</th>\n",
              "      <td>The Godfather: Part II</td>\n",
              "      <td>[Crime, Drama]</td>\n",
              "      <td>\\n                    The early life and caree...</td>\n",
              "    </tr>\n",
              "    <tr>\n",
              "      <th>3</th>\n",
              "      <td>The Dark Knight</td>\n",
              "      <td>[Action, Crime, Drama]</td>\n",
              "      <td>\\n                    When the menace known as...</td>\n",
              "    </tr>\n",
              "    <tr>\n",
              "      <th>4</th>\n",
              "      <td>12 Angry Men</td>\n",
              "      <td>[Crime, Drama]</td>\n",
              "      <td>\\n                    A jury holdout attempts ...</td>\n",
              "    </tr>\n",
              "    <tr>\n",
              "      <th>...</th>\n",
              "      <td>...</td>\n",
              "      <td>...</td>\n",
              "      <td>...</td>\n",
              "    </tr>\n",
              "    <tr>\n",
              "      <th>245</th>\n",
              "      <td>Anand</td>\n",
              "      <td>[Drama, Musical]</td>\n",
              "      <td>\\n                    The story of a terminall...</td>\n",
              "    </tr>\n",
              "    <tr>\n",
              "      <th>246</th>\n",
              "      <td>Time of the Gypsies</td>\n",
              "      <td>[Comedy, Crime, Drama]</td>\n",
              "      <td>\\n                    In this luminous tale se...</td>\n",
              "    </tr>\n",
              "    <tr>\n",
              "      <th>247</th>\n",
              "      <td>Nights of Cabiria</td>\n",
              "      <td>[Drama]</td>\n",
              "      <td>\\n                    A waifish prostitute wan...</td>\n",
              "    </tr>\n",
              "    <tr>\n",
              "      <th>248</th>\n",
              "      <td>Throne of Blood</td>\n",
              "      <td>[Drama, History]</td>\n",
              "      <td>\\n                    A war-hardened general, ...</td>\n",
              "    </tr>\n",
              "    <tr>\n",
              "      <th>249</th>\n",
              "      <td>The Man Who Shot Liberty Valance</td>\n",
              "      <td>[Drama, Western]</td>\n",
              "      <td>\\n                    A senator returns to a w...</td>\n",
              "    </tr>\n",
              "  </tbody>\n",
              "</table>\n",
              "<p>250 rows × 3 columns</p>\n",
              "</div>"
            ],
            "text/plain": [
              "                                title  ...                                               plot\n",
              "0            The Shawshank Redemption  ...  \\n                    Two imprisoned men bond ...\n",
              "1                       The Godfather  ...  \\n                    An organized crime dynas...\n",
              "2              The Godfather: Part II  ...  \\n                    The early life and caree...\n",
              "3                     The Dark Knight  ...  \\n                    When the menace known as...\n",
              "4                        12 Angry Men  ...  \\n                    A jury holdout attempts ...\n",
              "..                                ...  ...                                                ...\n",
              "245                             Anand  ...  \\n                    The story of a terminall...\n",
              "246               Time of the Gypsies  ...  \\n                    In this luminous tale se...\n",
              "247                 Nights of Cabiria  ...  \\n                    A waifish prostitute wan...\n",
              "248                   Throne of Blood  ...  \\n                    A war-hardened general, ...\n",
              "249  The Man Who Shot Liberty Valance  ...  \\n                    A senator returns to a w...\n",
              "\n",
              "[250 rows x 3 columns]"
            ]
          },
          "metadata": {
            "tags": []
          },
          "execution_count": 166
        }
      ]
    },
    {
      "cell_type": "code",
      "metadata": {
        "id": "E3BW6bhjsKIe"
      },
      "source": [
        "df.to_csv (\"scrapped_data.csv\", index = False, header=True)\n"
      ],
      "execution_count": null,
      "outputs": []
    },
    {
      "cell_type": "code",
      "metadata": {
        "id": "BQWfBQmUsP61"
      },
      "source": [
        "import pandas as pd\n",
        "df=pd.read_csv(\"/content/scrapped_data.csv\")"
      ],
      "execution_count": 3,
      "outputs": []
    },
    {
      "cell_type": "code",
      "metadata": {
        "colab": {
          "base_uri": "https://localhost:8080/",
          "height": 404
        },
        "id": "8MEYVENLOJca",
        "outputId": "e4593811-e38d-42f4-9ccc-980d0dbcc671"
      },
      "source": [
        "df\n"
      ],
      "execution_count": 4,
      "outputs": [
        {
          "output_type": "execute_result",
          "data": {
            "text/html": [
              "<div>\n",
              "<style scoped>\n",
              "    .dataframe tbody tr th:only-of-type {\n",
              "        vertical-align: middle;\n",
              "    }\n",
              "\n",
              "    .dataframe tbody tr th {\n",
              "        vertical-align: top;\n",
              "    }\n",
              "\n",
              "    .dataframe thead th {\n",
              "        text-align: right;\n",
              "    }\n",
              "</style>\n",
              "<table border=\"1\" class=\"dataframe\">\n",
              "  <thead>\n",
              "    <tr style=\"text-align: right;\">\n",
              "      <th></th>\n",
              "      <th>title</th>\n",
              "      <th>genre</th>\n",
              "      <th>plot</th>\n",
              "    </tr>\n",
              "  </thead>\n",
              "  <tbody>\n",
              "    <tr>\n",
              "      <th>0</th>\n",
              "      <td>The Shawshank Redemption</td>\n",
              "      <td>['Drama']</td>\n",
              "      <td>\\n                    Two imprisoned men bond ...</td>\n",
              "    </tr>\n",
              "    <tr>\n",
              "      <th>1</th>\n",
              "      <td>The Godfather</td>\n",
              "      <td>['Crime', 'Drama']</td>\n",
              "      <td>\\n                    An organized crime dynas...</td>\n",
              "    </tr>\n",
              "    <tr>\n",
              "      <th>2</th>\n",
              "      <td>The Godfather: Part II</td>\n",
              "      <td>['Crime', 'Drama']</td>\n",
              "      <td>\\n                    The early life and caree...</td>\n",
              "    </tr>\n",
              "    <tr>\n",
              "      <th>3</th>\n",
              "      <td>The Dark Knight</td>\n",
              "      <td>['Action', 'Crime', 'Drama']</td>\n",
              "      <td>\\n                    When the menace known as...</td>\n",
              "    </tr>\n",
              "    <tr>\n",
              "      <th>4</th>\n",
              "      <td>12 Angry Men</td>\n",
              "      <td>['Crime', 'Drama']</td>\n",
              "      <td>\\n                    A jury holdout attempts ...</td>\n",
              "    </tr>\n",
              "    <tr>\n",
              "      <th>...</th>\n",
              "      <td>...</td>\n",
              "      <td>...</td>\n",
              "      <td>...</td>\n",
              "    </tr>\n",
              "    <tr>\n",
              "      <th>245</th>\n",
              "      <td>Anand</td>\n",
              "      <td>['Drama', 'Musical']</td>\n",
              "      <td>\\n                    The story of a terminall...</td>\n",
              "    </tr>\n",
              "    <tr>\n",
              "      <th>246</th>\n",
              "      <td>Time of the Gypsies</td>\n",
              "      <td>['Comedy', 'Crime', 'Drama']</td>\n",
              "      <td>\\n                    In this luminous tale se...</td>\n",
              "    </tr>\n",
              "    <tr>\n",
              "      <th>247</th>\n",
              "      <td>Nights of Cabiria</td>\n",
              "      <td>['Drama']</td>\n",
              "      <td>\\n                    A waifish prostitute wan...</td>\n",
              "    </tr>\n",
              "    <tr>\n",
              "      <th>248</th>\n",
              "      <td>Throne of Blood</td>\n",
              "      <td>['Drama', 'History']</td>\n",
              "      <td>\\n                    A war-hardened general, ...</td>\n",
              "    </tr>\n",
              "    <tr>\n",
              "      <th>249</th>\n",
              "      <td>The Man Who Shot Liberty Valance</td>\n",
              "      <td>['Drama', 'Western']</td>\n",
              "      <td>\\n                    A senator returns to a w...</td>\n",
              "    </tr>\n",
              "  </tbody>\n",
              "</table>\n",
              "<p>250 rows × 3 columns</p>\n",
              "</div>"
            ],
            "text/plain": [
              "                                title  ...                                               plot\n",
              "0            The Shawshank Redemption  ...  \\n                    Two imprisoned men bond ...\n",
              "1                       The Godfather  ...  \\n                    An organized crime dynas...\n",
              "2              The Godfather: Part II  ...  \\n                    The early life and caree...\n",
              "3                     The Dark Knight  ...  \\n                    When the menace known as...\n",
              "4                        12 Angry Men  ...  \\n                    A jury holdout attempts ...\n",
              "..                                ...  ...                                                ...\n",
              "245                             Anand  ...  \\n                    The story of a terminall...\n",
              "246               Time of the Gypsies  ...  \\n                    In this luminous tale se...\n",
              "247                 Nights of Cabiria  ...  \\n                    A waifish prostitute wan...\n",
              "248                   Throne of Blood  ...  \\n                    A war-hardened general, ...\n",
              "249  The Man Who Shot Liberty Valance  ...  \\n                    A senator returns to a w...\n",
              "\n",
              "[250 rows x 3 columns]"
            ]
          },
          "metadata": {
            "tags": []
          },
          "execution_count": 4
        }
      ]
    },
    {
      "cell_type": "code",
      "metadata": {
        "colab": {
          "base_uri": "https://localhost:8080/"
        },
        "id": "vKXFFpCNOwnZ",
        "outputId": "4bfb5cff-f19e-4350-9f41-acbdef6ade64"
      },
      "source": [
        "from sklearn.feature_extraction.text import TfidfVectorizer\n",
        "from spacy.lang.en.stop_words import STOP_WORDS\n",
        "from sklearn.metrics.pairwise import cosine_similarity \n",
        "import nltk\n",
        "nltk.download('wordnet')\n",
        "from nltk.stem import WordNetLemmatizer\n",
        "lemmatizer=WordNetLemmatizer()"
      ],
      "execution_count": 5,
      "outputs": [
        {
          "output_type": "stream",
          "text": [
            "[nltk_data] Downloading package wordnet to /root/nltk_data...\n",
            "[nltk_data]   Unzipping corpora/wordnet.zip.\n"
          ],
          "name": "stdout"
        }
      ]
    },
    {
      "cell_type": "code",
      "metadata": {
        "colab": {
          "base_uri": "https://localhost:8080/"
        },
        "id": "Uf2cEEEMQlCC",
        "outputId": "9e79fb75-e240-402f-9900-3fb16e5a4619"
      },
      "source": [
        "p=df.loc[0,\"plot\"].replace(\"\\n\",\"\").lower()\n",
        "print(p)"
      ],
      "execution_count": 6,
      "outputs": [
        {
          "output_type": "stream",
          "text": [
            "                    two imprisoned men bond over a number of years, finding solace and eventual redemption through acts of common decency.            \n"
          ],
          "name": "stdout"
        }
      ]
    },
    {
      "cell_type": "code",
      "metadata": {
        "id": "BLD0_LqvON1v"
      },
      "source": [
        "for i in df.index:\n",
        "  temp=df.loc[i,\"plot\"]\n",
        "  temp=temp.replace(\"\\n\",\"\")\n",
        "  temp=temp.lower()\n",
        "  temp= temp.split()\n",
        "  x=\"\"\n",
        "  for j in temp:\n",
        "    if(j not in STOP_WORDS):\n",
        "      x=x+lemmatizer.lemmatize(j)+\" \"\n",
        "  df.loc[i,\"plot\"]=x\n"
      ],
      "execution_count": 9,
      "outputs": []
    },
    {
      "cell_type": "code",
      "metadata": {
        "colab": {
          "base_uri": "https://localhost:8080/"
        },
        "id": "QRbDUf1lQaBp",
        "outputId": "0410e5c3-548c-4d31-ae1f-b8fa78309798"
      },
      "source": [
        "vectorizer = TfidfVectorizer()\n",
        "tfidf_matrix = vectorizer.fit_transform(df[\"plot\"])\n",
        "print(tfidf_matrix) "
      ],
      "execution_count": 11,
      "outputs": [
        {
          "output_type": "stream",
          "text": [
            "  (0, 449)\t0.31228909860910475\n",
            "  (0, 354)\t0.31228909860910475\n",
            "  (0, 47)\t0.2905785885003981\n",
            "  (0, 1488)\t0.2751747364372708\n",
            "  (0, 608)\t0.31228909860910475\n",
            "  (0, 1702)\t0.31228909860910475\n",
            "  (0, 681)\t0.2905785885003981\n",
            "  (0, 2057)\t0.2751747364372708\n",
            "  (0, 1270)\t0.2905785885003981\n",
            "  (0, 210)\t0.2751747364372708\n",
            "  (0, 1162)\t0.23175371621985752\n",
            "  (0, 898)\t0.2751747364372708\n",
            "  (1, 1709)\t0.22328341693930698\n",
            "  (1, 1503)\t0.32881100384197137\n",
            "  (1, 574)\t0.25818331964664243\n",
            "  (1, 320)\t0.32881100384197137\n",
            "  (1, 384)\t0.32881100384197137\n",
            "  (1, 1890)\t0.32881100384197137\n",
            "  (1, 1330)\t0.32881100384197137\n",
            "  (1, 72)\t0.27715279389373093\n",
            "  (1, 546)\t0.32881100384197137\n",
            "  (1, 413)\t0.22328341693930698\n",
            "  (1, 1297)\t0.32881100384197137\n",
            "  (2, 1807)\t0.2510270071262155\n",
            "  (2, 647)\t0.18690179194449796\n",
            "  :\t:\n",
            "  (247, 1994)\t0.32662824066562895\n",
            "  (247, 680)\t0.19438267749780483\n",
            "  (248, 1435)\t0.31344086320000897\n",
            "  (248, 94)\t0.31344086320000897\n",
            "  (248, 559)\t0.31344086320000897\n",
            "  (248, 801)\t0.2916502817826814\n",
            "  (248, 2009)\t0.2916502817826814\n",
            "  (248, 279)\t0.2916502817826814\n",
            "  (248, 730)\t0.2916502817826814\n",
            "  (248, 2041)\t0.23893837324393966\n",
            "  (248, 1729)\t0.2916502817826814\n",
            "  (248, 743)\t0.2641973958940132\n",
            "  (248, 1090)\t0.2641973958940132\n",
            "  (248, 2017)\t0.2218239734674267\n",
            "  (248, 1996)\t0.18457272848939205\n",
            "  (249, 1300)\t0.3675054377309626\n",
            "  (249, 732)\t0.3675054377309626\n",
            "  (249, 1631)\t0.3675054377309626\n",
            "  (249, 1875)\t0.3238288253329798\n",
            "  (249, 2014)\t0.3419562573196099\n",
            "  (249, 1525)\t0.2982796449216271\n",
            "  (249, 1831)\t0.30976809671256345\n",
            "  (249, 1290)\t0.22905385211229162\n",
            "  (249, 1758)\t0.26609148431458063\n",
            "  (249, 722)\t0.2546030325236443\n"
          ],
          "name": "stdout"
        }
      ]
    },
    {
      "cell_type": "code",
      "metadata": {
        "colab": {
          "base_uri": "https://localhost:8080/"
        },
        "id": "nqx7f4HNRpSy",
        "outputId": "39684c32-6728-4e07-dfed-602e2b4b8567"
      },
      "source": [
        "cosine_sim= cosine_similarity(tfidf_matrix, tfidf_matrix)\n",
        "cosine_sim"
      ],
      "execution_count": 12,
      "outputs": [
        {
          "output_type": "execute_result",
          "data": {
            "text/plain": [
              "array([[1.        , 0.        , 0.        , ..., 0.        , 0.        ,\n",
              "        0.        ],\n",
              "       [0.        , 1.        , 0.08181073, ..., 0.        , 0.        ,\n",
              "        0.        ],\n",
              "       [0.        , 0.08181073, 1.        , ..., 0.        , 0.        ,\n",
              "        0.        ],\n",
              "       ...,\n",
              "       [0.        , 0.        , 0.        , ..., 1.        , 0.        ,\n",
              "        0.        ],\n",
              "       [0.        , 0.        , 0.        , ..., 0.        , 1.        ,\n",
              "        0.        ],\n",
              "       [0.        , 0.        , 0.        , ..., 0.        , 0.        ,\n",
              "        1.        ]])"
            ]
          },
          "metadata": {
            "tags": []
          },
          "execution_count": 12
        }
      ]
    },
    {
      "cell_type": "code",
      "metadata": {
        "colab": {
          "base_uri": "https://localhost:8080/"
        },
        "id": "HUoc3GhsRVGv",
        "outputId": "f36e526a-fa39-4142-adaa-6fff8df2ec74"
      },
      "source": [
        "cosine_sim.shape"
      ],
      "execution_count": 13,
      "outputs": [
        {
          "output_type": "execute_result",
          "data": {
            "text/plain": [
              "(250, 250)"
            ]
          },
          "metadata": {
            "tags": []
          },
          "execution_count": 13
        }
      ]
    },
    {
      "cell_type": "code",
      "metadata": {
        "id": "UTkeJeFkS0yv"
      },
      "source": [
        ""
      ],
      "execution_count": 13,
      "outputs": []
    },
    {
      "cell_type": "code",
      "metadata": {
        "colab": {
          "base_uri": "https://localhost:8080/"
        },
        "id": "Skrz6OrISB9g",
        "outputId": "dc84d5d4-9da0-4005-c483-309b7668d208"
      },
      "source": [
        "indices = pd.Series(df.index, index=df['title']) #pegar os nomes de cada filme\n",
        "indices"
      ],
      "execution_count": 34,
      "outputs": [
        {
          "output_type": "execute_result",
          "data": {
            "text/plain": [
              "title\n",
              "The Shawshank Redemption              0\n",
              "The Godfather                         1\n",
              "The Godfather: Part II                2\n",
              "The Dark Knight                       3\n",
              "12 Angry Men                          4\n",
              "                                   ... \n",
              "Anand                               245\n",
              "Time of the Gypsies                 246\n",
              "Nights of Cabiria                   247\n",
              "Throne of Blood                     248\n",
              "The Man Who Shot Liberty Valance    249\n",
              "Length: 250, dtype: int64"
            ]
          },
          "metadata": {
            "tags": []
          },
          "execution_count": 34
        }
      ]
    },
    {
      "cell_type": "code",
      "metadata": {
        "id": "Ds6_208FR35t"
      },
      "source": [
        "def get_recommendations(title):\n",
        "    idx = indices[title]\n",
        "    sim_scores = list(enumerate(cosine_sim[idx]))\n",
        "    sim_scores = sorted(sim_scores, key=lambda x: x[1], reverse=True)\n",
        "    sim_scores = sim_scores[1:6]\n",
        "    movie_indices = [i[0] for i in sim_scores]\n",
        "    return df['title'].iloc[movie_indices]"
      ],
      "execution_count": 35,
      "outputs": []
    },
    {
      "cell_type": "code",
      "metadata": {
        "colab": {
          "base_uri": "https://localhost:8080/"
        },
        "id": "LdPG3j3MTE5Y",
        "outputId": "338a9ccb-5b81-46ff-976c-f69cf869ee0e"
      },
      "source": [
        "print(get_recommendations('Se7en'))"
      ],
      "execution_count": 36,
      "outputs": [
        {
          "output_type": "stream",
          "text": [
            "20        The Silence of the Lambs\n",
            "233                     Raatchasan\n",
            "225                           Rush\n",
            "18                   Seven Samurai\n",
            "63     Witness for the Prosecution\n",
            "Name: title, dtype: object\n"
          ],
          "name": "stdout"
        }
      ]
    },
    {
      "cell_type": "code",
      "metadata": {
        "id": "vmlTO3mkTd2j"
      },
      "source": [
        ""
      ],
      "execution_count": null,
      "outputs": []
    }
  ]
}